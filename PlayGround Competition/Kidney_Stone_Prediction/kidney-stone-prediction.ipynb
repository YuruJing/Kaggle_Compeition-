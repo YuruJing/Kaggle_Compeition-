{
 "cells": [
  {
   "cell_type": "markdown",
   "id": "55b50b5f",
   "metadata": {},
   "source": [
    "# Import Libraries"
   ]
  },
  {
   "cell_type": "code",
   "execution_count": 1,
   "id": "905874c2",
   "metadata": {
    "execution": {
     "iopub.execute_input": "2023-04-12T13:40:59.699774Z",
     "iopub.status.busy": "2023-04-12T13:40:59.698890Z",
     "iopub.status.idle": "2023-04-12T13:41:01.460104Z",
     "shell.execute_reply": "2023-04-12T13:41:01.458779Z"
    },
    "papermill": {
     "duration": 1.774689,
     "end_time": "2023-04-12T13:41:01.463239",
     "exception": false,
     "start_time": "2023-04-12T13:40:59.688550",
     "status": "completed"
    },
    "tags": []
   },
   "outputs": [],
   "source": [
    "import numpy as np\n",
    "import pandas as pd\n",
    "\n",
    "import matplotlib.pyplot as plt\n",
    "import seaborn as sns\n",
    "\n",
    "from scipy.stats import skew\n",
    "\n",
    "from sklearn.metrics import roc_auc_score, make_scorer\n",
    "from sklearn.pipeline import Pipeline\n",
    "from sklearn.preprocessing import StandardScaler, PowerTransformer\n",
    "from sklearn.model_selection import StratifiedKFold\n",
    "from sklearn.ensemble import RandomForestClassifier"
   ]
  },
  {
   "cell_type": "markdown",
   "id": "804c04fd",
   "metadata": {},
   "source": [
    "# Read the Dataset"
   ]
  },
  {
   "cell_type": "code",
   "execution_count": 2,
   "id": "39a45b4a",
   "metadata": {
    "execution": {
     "iopub.execute_input": "2023-04-12T13:41:01.475459Z",
     "iopub.status.busy": "2023-04-12T13:41:01.475014Z",
     "iopub.status.idle": "2023-04-12T13:41:01.540016Z",
     "shell.execute_reply": "2023-04-12T13:41:01.539049Z"
    },
    "papermill": {
     "duration": 0.074799,
     "end_time": "2023-04-12T13:41:01.543409",
     "exception": false,
     "start_time": "2023-04-12T13:41:01.468610",
     "status": "completed"
    },
    "tags": []
   },
   "outputs": [
    {
     "data": {
      "text/html": [
       "<div>\n",
       "<style scoped>\n",
       "    .dataframe tbody tr th:only-of-type {\n",
       "        vertical-align: middle;\n",
       "    }\n",
       "\n",
       "    .dataframe tbody tr th {\n",
       "        vertical-align: top;\n",
       "    }\n",
       "\n",
       "    .dataframe thead th {\n",
       "        text-align: right;\n",
       "    }\n",
       "</style>\n",
       "<table border=\"1\" class=\"dataframe\">\n",
       "  <thead>\n",
       "    <tr style=\"text-align: right;\">\n",
       "      <th></th>\n",
       "      <th>gravity</th>\n",
       "      <th>ph</th>\n",
       "      <th>osmo</th>\n",
       "      <th>cond</th>\n",
       "      <th>urea</th>\n",
       "      <th>calc</th>\n",
       "      <th>target</th>\n",
       "    </tr>\n",
       "  </thead>\n",
       "  <tbody>\n",
       "    <tr>\n",
       "      <th>0</th>\n",
       "      <td>1.013</td>\n",
       "      <td>6.19</td>\n",
       "      <td>443</td>\n",
       "      <td>14.8</td>\n",
       "      <td>124</td>\n",
       "      <td>1.45</td>\n",
       "      <td>0</td>\n",
       "    </tr>\n",
       "    <tr>\n",
       "      <th>1</th>\n",
       "      <td>1.025</td>\n",
       "      <td>5.40</td>\n",
       "      <td>703</td>\n",
       "      <td>23.6</td>\n",
       "      <td>394</td>\n",
       "      <td>4.18</td>\n",
       "      <td>0</td>\n",
       "    </tr>\n",
       "    <tr>\n",
       "      <th>2</th>\n",
       "      <td>1.009</td>\n",
       "      <td>6.13</td>\n",
       "      <td>371</td>\n",
       "      <td>24.5</td>\n",
       "      <td>159</td>\n",
       "      <td>9.04</td>\n",
       "      <td>0</td>\n",
       "    </tr>\n",
       "    <tr>\n",
       "      <th>3</th>\n",
       "      <td>1.021</td>\n",
       "      <td>4.91</td>\n",
       "      <td>442</td>\n",
       "      <td>20.8</td>\n",
       "      <td>398</td>\n",
       "      <td>6.63</td>\n",
       "      <td>1</td>\n",
       "    </tr>\n",
       "    <tr>\n",
       "      <th>4</th>\n",
       "      <td>1.021</td>\n",
       "      <td>5.53</td>\n",
       "      <td>874</td>\n",
       "      <td>17.8</td>\n",
       "      <td>385</td>\n",
       "      <td>2.21</td>\n",
       "      <td>1</td>\n",
       "    </tr>\n",
       "    <tr>\n",
       "      <th>...</th>\n",
       "      <td>...</td>\n",
       "      <td>...</td>\n",
       "      <td>...</td>\n",
       "      <td>...</td>\n",
       "      <td>...</td>\n",
       "      <td>...</td>\n",
       "      <td>...</td>\n",
       "    </tr>\n",
       "    <tr>\n",
       "      <th>74</th>\n",
       "      <td>1.025</td>\n",
       "      <td>7.90</td>\n",
       "      <td>721</td>\n",
       "      <td>23.6</td>\n",
       "      <td>301</td>\n",
       "      <td>9.04</td>\n",
       "      <td>1</td>\n",
       "    </tr>\n",
       "    <tr>\n",
       "      <th>75</th>\n",
       "      <td>1.017</td>\n",
       "      <td>4.81</td>\n",
       "      <td>410</td>\n",
       "      <td>13.3</td>\n",
       "      <td>195</td>\n",
       "      <td>0.58</td>\n",
       "      <td>1</td>\n",
       "    </tr>\n",
       "    <tr>\n",
       "      <th>76</th>\n",
       "      <td>1.024</td>\n",
       "      <td>5.40</td>\n",
       "      <td>803</td>\n",
       "      <td>21.8</td>\n",
       "      <td>394</td>\n",
       "      <td>7.82</td>\n",
       "      <td>1</td>\n",
       "    </tr>\n",
       "    <tr>\n",
       "      <th>77</th>\n",
       "      <td>1.016</td>\n",
       "      <td>6.81</td>\n",
       "      <td>594</td>\n",
       "      <td>21.4</td>\n",
       "      <td>255</td>\n",
       "      <td>12.20</td>\n",
       "      <td>1</td>\n",
       "    </tr>\n",
       "    <tr>\n",
       "      <th>78</th>\n",
       "      <td>1.015</td>\n",
       "      <td>6.03</td>\n",
       "      <td>416</td>\n",
       "      <td>12.8</td>\n",
       "      <td>178</td>\n",
       "      <td>9.39</td>\n",
       "      <td>1</td>\n",
       "    </tr>\n",
       "  </tbody>\n",
       "</table>\n",
       "<p>493 rows × 7 columns</p>\n",
       "</div>"
      ],
      "text/plain": [
       "    gravity    ph  osmo  cond  urea   calc  target\n",
       "0     1.013  6.19   443  14.8   124   1.45       0\n",
       "1     1.025  5.40   703  23.6   394   4.18       0\n",
       "2     1.009  6.13   371  24.5   159   9.04       0\n",
       "3     1.021  4.91   442  20.8   398   6.63       1\n",
       "4     1.021  5.53   874  17.8   385   2.21       1\n",
       "..      ...   ...   ...   ...   ...    ...     ...\n",
       "74    1.025  7.90   721  23.6   301   9.04       1\n",
       "75    1.017  4.81   410  13.3   195   0.58       1\n",
       "76    1.024  5.40   803  21.8   394   7.82       1\n",
       "77    1.016  6.81   594  21.4   255  12.20       1\n",
       "78    1.015  6.03   416  12.8   178   9.39       1\n",
       "\n",
       "[493 rows x 7 columns]"
      ]
     },
     "execution_count": 2,
     "metadata": {},
     "output_type": "execute_result"
    }
   ],
   "source": [
    "# read and concatenate the datasets (original and extra data)\n",
    "df = pd.read_csv(\"/kaggle/input/kidney-stone-prediction-based-on-urine-analysis/kindey stone urine analysis.csv\")\n",
    "df1 = pd.read_csv(\"/kaggle/input/playground-series-s3e12/train.csv\")\n",
    "train_set = pd.concat([df1.iloc[:,1:],df], axis=0)\n",
    "test_set = pd.read_csv(\"/kaggle/input/playground-series-s3e12/test.csv\")\n",
    "train_set"
   ]
  },
  {
   "cell_type": "code",
   "execution_count": 3,
   "id": "4c0cb20e",
   "metadata": {
    "execution": {
     "iopub.execute_input": "2023-04-12T13:41:01.557222Z",
     "iopub.status.busy": "2023-04-12T13:41:01.556266Z",
     "iopub.status.idle": "2023-04-12T13:41:01.578892Z",
     "shell.execute_reply": "2023-04-12T13:41:01.577881Z"
    },
    "papermill": {
     "duration": 0.032318,
     "end_time": "2023-04-12T13:41:01.581593",
     "exception": false,
     "start_time": "2023-04-12T13:41:01.549275",
     "status": "completed"
    },
    "tags": []
   },
   "outputs": [
    {
     "name": "stdout",
     "output_type": "stream",
     "text": [
      "<class 'pandas.core.frame.DataFrame'>\n",
      "Int64Index: 493 entries, 0 to 78\n",
      "Data columns (total 7 columns):\n",
      " #   Column   Non-Null Count  Dtype  \n",
      "---  ------   --------------  -----  \n",
      " 0   gravity  493 non-null    float64\n",
      " 1   ph       493 non-null    float64\n",
      " 2   osmo     493 non-null    int64  \n",
      " 3   cond     493 non-null    float64\n",
      " 4   urea     493 non-null    int64  \n",
      " 5   calc     493 non-null    float64\n",
      " 6   target   493 non-null    int64  \n",
      "dtypes: float64(4), int64(3)\n",
      "memory usage: 30.8 KB\n"
     ]
    }
   ],
   "source": [
    "train_set.info()"
   ]
  },
  {
   "cell_type": "code",
   "execution_count": 4,
   "id": "768d18cc",
   "metadata": {
    "execution": {
     "iopub.execute_input": "2023-04-12T13:41:01.595403Z",
     "iopub.status.busy": "2023-04-12T13:41:01.594265Z",
     "iopub.status.idle": "2023-04-12T13:41:01.604766Z",
     "shell.execute_reply": "2023-04-12T13:41:01.603190Z"
    },
    "papermill": {
     "duration": 0.020092,
     "end_time": "2023-04-12T13:41:01.607400",
     "exception": false,
     "start_time": "2023-04-12T13:41:01.587308",
     "status": "completed"
    },
    "tags": []
   },
   "outputs": [
    {
     "name": "stdout",
     "output_type": "stream",
     "text": [
      "gravity num of uniques: 29.0\n",
      "ph num of uniques: 75.0\n",
      "osmo num of uniques: 80.0\n",
      "cond num of uniques: 67.0\n",
      "urea num of uniques: 74.0\n",
      "calc num of uniques: 86.0\n",
      "target num of uniques: 2.0\n"
     ]
    }
   ],
   "source": [
    "# check if it is categorical data\n",
    "for i in train_set.columns:\n",
    "    print(i + \" num of uniques: %.1f\" %(train_set[i].nunique()))"
   ]
  },
  {
   "cell_type": "code",
   "execution_count": 5,
   "id": "dc350e6f",
   "metadata": {
    "execution": {
     "iopub.execute_input": "2023-04-12T13:41:01.621166Z",
     "iopub.status.busy": "2023-04-12T13:41:01.620445Z",
     "iopub.status.idle": "2023-04-12T13:41:01.628338Z",
     "shell.execute_reply": "2023-04-12T13:41:01.626901Z"
    },
    "papermill": {
     "duration": 0.017767,
     "end_time": "2023-04-12T13:41:01.630915",
     "exception": false,
     "start_time": "2023-04-12T13:41:01.613148",
     "status": "completed"
    },
    "tags": []
   },
   "outputs": [
    {
     "name": "stdout",
     "output_type": "stream",
     "text": [
      "gravity skewness: 0.2995\n",
      "ph skewness: 0.9279\n",
      "osmo skewness: 0.1451\n",
      "cond skewness: -0.1821\n",
      "urea skewness: 0.3293\n",
      "calc skewness: 1.1155\n"
     ]
    }
   ],
   "source": [
    "# check skewness\n",
    "for i in train_set.columns[:-1]:\n",
    "    print(i +  \" skewness: %.4f\" %(skew(train_set[i])))"
   ]
  },
  {
   "cell_type": "code",
   "execution_count": 8,
   "id": "9ee7d96a",
   "metadata": {
    "execution": {
     "iopub.execute_input": "2023-04-12T13:41:01.695103Z",
     "iopub.status.busy": "2023-04-12T13:41:01.694673Z",
     "iopub.status.idle": "2023-04-12T13:41:01.705284Z",
     "shell.execute_reply": "2023-04-12T13:41:01.704022Z"
    },
    "papermill": {
     "duration": 0.020634,
     "end_time": "2023-04-12T13:41:01.707838",
     "exception": false,
     "start_time": "2023-04-12T13:41:01.687204",
     "status": "completed"
    },
    "tags": []
   },
   "outputs": [
    {
     "data": {
      "text/plain": [
       "gravity    0\n",
       "ph         0\n",
       "osmo       0\n",
       "cond       0\n",
       "urea       0\n",
       "calc       0\n",
       "target     0\n",
       "dtype: int64"
      ]
     },
     "execution_count": 8,
     "metadata": {},
     "output_type": "execute_result"
    }
   ],
   "source": [
    "# check if there's nan values for new features\n",
    "train_set.isnull().sum()"
   ]
  },
  {
   "cell_type": "code",
   "execution_count": 10,
   "id": "55b0e586",
   "metadata": {
    "execution": {
     "iopub.execute_input": "2023-04-12T13:41:01.746609Z",
     "iopub.status.busy": "2023-04-12T13:41:01.745393Z",
     "iopub.status.idle": "2023-04-12T13:41:02.186521Z",
     "shell.execute_reply": "2023-04-12T13:41:02.185043Z"
    },
    "papermill": {
     "duration": 0.451778,
     "end_time": "2023-04-12T13:41:02.189446",
     "exception": false,
     "start_time": "2023-04-12T13:41:01.737668",
     "status": "completed"
    },
    "tags": []
   },
   "outputs": [
    {
     "data": {
      "image/png": "[encoded data removed]",
      "text/plain": [
       "<Figure size 1000x800 with 2 Axes>"
      ]
     },
     "metadata": {},
     "output_type": "display_data"
    }
   ],
   "source": [
    "# feature correlation\n",
    "plt.figure(figsize=(10,8))\n",
    "mask = np.triu(np.ones_like(train_set.corr(), dtype=bool))\n",
    "sns.heatmap(train_set.corr(), annot=True, cmap='coolwarm', fmt=\".2f\", mask=mask);"
   ]
  },
  {
   "cell_type": "code",
   "execution_count": null,
   "id": "5ee9b08c",
   "metadata": {},
   "outputs": [],
   "source": [
    "# checking feature importance\n",
    "model1 = RandomForestClassifier()\n",
    "model1.fit(train_set.iloc[:,:-1], train_set.iloc[:,-1])\n",
    "\n",
    "importance = model1.feature_importances_\n",
    "# create dataframe to test feature importance\n",
    "feature_importance = pd.DataFrame({\"Features\": train_set.columns[:-1], \n",
    "                                   \"Importance\": importance})\n",
    "\n",
    "feature_importance = feature_importance.sort_values(\"Importance\")\n",
    "plt.bar(feature_importance[\"Features\"], feature_importance[\"Importance\"])\n",
    "plt.ylabel(\"Feature Importance\");"
   ]
  },
  {
   "cell_type": "markdown",
   "id": "f42653f6",
   "metadata": {},
   "source": [
    "# Train Model"
   ]
  },
  {
   "cell_type": "code",
   "execution_count": null,
   "id": "b2084dc3",
   "metadata": {},
   "outputs": [],
   "source": [
    "# 5 cross validation with roc auc score\n",
    "def train_model(model, X_train, y_train, X_test,cv=5):\n",
    "    '''\n",
    "    inputs:\n",
    "    \n",
    "    model: Train model you selected \n",
    "    X_train: The features you used to train the model\n",
    "    y_train: The target you used to train the model\n",
    "    X_test: The features you used to predict the model \n",
    "    cv_num: The number of folds split to use for cross validation\n",
    "    \n",
    "    output:\n",
    "    \n",
    "    y_pred: The target values you predicted\n",
    "    '''\n",
    "    # check type (must be numpy)\n",
    "    check_dict = {\"X_train\": X_train, \"y_train\": y_train, \"X_test\": X_test}\n",
    "    for key, value in check_dict.items():\n",
    "        if not isinstance(value, np.ndarray):\n",
    "            raise ValueError (f\"{key} must be a numpy array.\")\n",
    "            \n",
    "    # split k fold\n",
    "    stratkfold = StratifiedKFold(n_splits=cv)\n",
    "    kfold = stratkfold.split(X_train, y_train)\n",
    "    \n",
    "    score_list = []\n",
    "    \n",
    "    # start setting the cross validation \n",
    "    for k, (train_idx, val_idx) in enumerate(kfold, 1):\n",
    "        ## fit and predict the model \n",
    "        model.fit(X_train[train_idx,:], y_train[train_idx])\n",
    "        y_pred = model.predict_proba(X_train[val_idx,:])[:,1]\n",
    "        \n",
    "        ## get and print the metric\n",
    "        roc_score = roc_auc_score(y_train[val_idx], y_pred)\n",
    "        score_list.append(roc_score)\n",
    "        print(\"Fold: %.1f, AUC under ROC curve: %.4f \"%(k, roc_score))\n",
    "        \n",
    "    print(\"Total Cross validation is %.4f +/- %.4f\"%(np.mean(score_list), np.std(score_list)))\n",
    "    \n",
    "    y_pred = model.predict_proba(X_test)[:,1]\n",
    "    return y_pred #, model.coef_.round(2)"
   ]
  },
  {
   "cell_type": "markdown",
   "id": "251c2343",
   "metadata": {},
   "source": [
    "# Feature Engineering Experiments "
   ]
  },
  {
   "cell_type": "markdown",
   "id": "82eb2a93",
   "metadata": {},
   "source": [
    "## feature construction "
   ]
  },
  {
   "cell_type": "code",
   "execution_count": 7,
   "id": "9261d25a",
   "metadata": {
    "execution": {
     "iopub.execute_input": "2023-04-12T13:41:01.673921Z",
     "iopub.status.busy": "2023-04-12T13:41:01.673477Z",
     "iopub.status.idle": "2023-04-12T13:41:01.678877Z",
     "shell.execute_reply": "2023-04-12T13:41:01.677630Z"
    },
    "papermill": {
     "duration": 0.015793,
     "end_time": "2023-04-12T13:41:01.681411",
     "exception": false,
     "start_time": "2023-04-12T13:41:01.665618",
     "status": "completed"
    },
    "tags": []
   },
   "outputs": [],
   "source": [
    "# feature construction \n",
    "## (6-10 features)\n",
    "train_set[\"urea_to_osmo\"] = train_set[\"urea\"]/train_set[\"osmo\"]\n",
    "train_set[\"cal_to_osmo\"] = train_set[\"calc\"]/train_set[\"osmo\"]\n",
    "train_set[\"urea_to_cond\"] = train_set[\"urea\"]/train_set[\"cond\"]\n",
    "train_set[\"cal_to_cond\"] = train_set[\"calc\"]/train_set[\"cond\"]\n",
    "train_set[\"urea_to_cal\"] = train_set[\"urea\"]/train_set[\"calc\"]\n",
    "\n",
    "## other construction features\n",
    "train_set[\"iron_product\"] = train_set[\"calc\"]*train_set[\"urea\"]\n",
    "train_set[\"elect_balance\"] = train_set[\"cond\"]/(10**(-train_set[\"ph\"]))\n",
    "train_set[\"osmo_to_gravity\"] = train_set[\"osmo\"]/train_set[\"gravity\"]\n",
    "train_set[\"osmo_density\"] = train_set[\"osmo\"]*train_set[\"gravity\"]"
   ]
  },
  {
   "cell_type": "code",
   "execution_count": null,
   "id": "7952e781",
   "metadata": {},
   "outputs": [],
   "source": [
    "# add new features to the test set\n",
    "## (6-10 features)\n",
    "test_set[\"urea_to_osmo\"] = test_set[\"urea\"]/test_set[\"osmo\"]\n",
    "test_set[\"cal_to_osmo\"] = test_set[\"calc\"]/test_set[\"osmo\"]\n",
    "test_set[\"urea_to_cond\"] = test_set[\"urea\"]/test_set[\"cond\"]\n",
    "test_set[\"cal_to_cond\"] = test_set[\"calc\"]/test_set[\"cond\"]\n",
    "test_set[\"urea_to_cal\"] = test_set[\"urea\"]/test_set[\"calc\"]\n",
    "\n",
    "## other construction features\n",
    "test_set[\"iron_product\"] = test_set[\"calc\"]*test_set[\"urea\"]\n",
    "test_set[\"elect_balance\"] = test_set[\"cond\"]/(10**(-test_set[\"ph\"]))\n",
    "test_set[\"osmo_to_gravity\"] = test_set[\"osmo\"]/test_set[\"gravity\"]\n",
    "test_set[\"osmo_density\"] = test_set[\"osmo\"]*test_set[\"gravity\"]"
   ]
  },
  {
   "cell_type": "code",
   "execution_count": null,
   "id": "4d755018",
   "metadata": {},
   "outputs": [],
   "source": [
    "# keep cond: \n",
    "## best 1-5:\n",
    "train_set['cond_to_osmo'] = train_set['cond']/train_set['osmo']\n",
    "test_set['cond_to_osmo'] = test_set['cond']/test_set['osmo']\n",
    "\n",
    "## test: drop some less important features \n",
    "new_set = train_set.drop(columns=[\"osmo\", \"urea_to_osmo\", \"urea_to_cond\",\n",
    "                                 \"ph\"], axis=1)\n",
    "new_test = test_set.drop(columns=[\"osmo\", \"urea_to_osmo\", \"urea_to_cond\",\n",
    "                                \"ph\"], axis=1)\n",
    "# inputs \n",
    "rf = RandomForestClassifier()\n",
    "X_train, y_train = new_set.drop(\"target\", axis=1).to_numpy(), new_set[\"target\"].to_numpy()\n",
    "X_test = new_test.drop(\"id\", axis=1).to_numpy()\n",
    "\n",
    "# output\n",
    "y_pred, model_params = train_model(rf, X_train, y_train, X_test)\n",
    "# save the submission \n",
    "pred_outcome = pd.DataFrame(y_pred, columns=[\"target\"])\n",
    "submission_df = pd.concat([new_test['id'], pred_outcome], axis=1)\n",
    "submission_df.to_csv(\"submission.csv\", index=False)"
   ]
  },
  {
   "cell_type": "code",
   "execution_count": null,
   "id": "56312d7e",
   "metadata": {},
   "outputs": [],
   "source": [
    "# keep cond and best 1-5:\n",
    "train_set['cond_to_osmo'] = train_set['cond']/train_set['osmo']\n",
    "test_set['cond_to_osmo'] = test_set['cond']/test_set['osmo']\n",
    "\n",
    "## test: drop some less important features \n",
    "new_set = train_set.drop(columns=[\"osmo\", \"urea_to_osmo\", \"urea_to_cond\",\n",
    "                                 \"ph\"], axis=1)\n",
    "new_test = test_set.drop(columns=[\"osmo\", \"urea_to_osmo\", \"urea_to_cond\",\n",
    "                                \"ph\"], axis=1)\n",
    "# inputs \n",
    "rf = RandomForestClassifier()\n",
    "X_train, y_train = new_set.drop(\"target\", axis=1).to_numpy(), new_set[\"target\"].to_numpy()\n",
    "X_test = new_test.drop(\"id\", axis=1).to_numpy()\n",
    "\n",
    "# output\n",
    "y_pred, model_params = train_model(rf, X_train, y_train, X_test)\n",
    "# save the submission \n",
    "pred_outcome = pd.DataFrame(y_pred, columns=[\"target\"])\n",
    "submission_df = pd.concat([new_test['id'], pred_outcome], axis=1)\n",
    "submission_df.to_csv(\"submission.csv\", index=False)"
   ]
  },
  {
   "cell_type": "markdown",
   "id": "e93e9d69",
   "metadata": {},
   "source": [
    "## add aggregating features"
   ]
  },
  {
   "cell_type": "code",
   "execution_count": null,
   "id": "c3b92a41",
   "metadata": {},
   "outputs": [],
   "source": [
    "# generate the groupby mean and std\n",
    "def agg_fun(group_set, data_set, agg_cols, agg_methods=['mean', 'std']):\n",
    "    '''\n",
    "    inputs:\n",
    "    group_set: set the group how to combine\n",
    "    data_set: the dataset used to group by\n",
    "    agg_cols: all columns consider to extract the aggregate results\n",
    "    agg_methods: the methods of aggregating the data\n",
    "    '''\n",
    "    # save all new aggregate results\n",
    "    all_agg = []\n",
    "    for col in agg_cols:\n",
    "        agg_df = data_set.groupby(group_set)[col].aggregate(agg_methods)\n",
    "        merge_df = pd.merge(data_set, agg_df, left_on=group_set, right_index=True, how='left')\n",
    "        merge_df.fillna(data_set[col].median(), inplace=True)\n",
    "        all_agg.append(merge_df.iloc[:,-2:].to_numpy())\n",
    "        \n",
    "    final_agg = pd.DataFrame(np.concatenate(all_agg, axis=1))\n",
    "    \n",
    "    return final_agg"
   ]
  },
  {
   "cell_type": "code",
   "execution_count": null,
   "id": "eb4e1016",
   "metadata": {},
   "outputs": [],
   "source": [
    "# train set\n",
    "agg_cols = ['gravity', 'ph', 'osmo', 'cond', 'urea', 'calc']\n",
    "group_col = [['gravity'],['calc'], ['urea'], ['osmo']\n",
    "\n",
    "#               ['calc', 'urea'], \n",
    "#               ['gravity', 'calc', 'urea']]\n",
    "\n",
    "concat_set = []\n",
    "for col in group_col:\n",
    "    group_agg = agg_fun(col,train_set,agg_cols)\n",
    "    concat_set.append(group_agg)\n",
    "    \n",
    "concat_np = np.concatenate(concat_set, axis=1)\n",
    "final_np = np.concatenate((train_set.drop('target', axis=1).to_numpy(), concat_np), axis=1)\n",
    "\n",
    "\n",
    "concat_set1 = []\n",
    "for col in group_col:\n",
    "    group_agg = agg_fun(col,test_set,agg_cols)\n",
    "    concat_set1.append(group_agg)\n",
    "    \n",
    "concat_np1 = np.concatenate(concat_set1, axis=1)\n",
    "final_np1 = np.concatenate((test_set.drop('id', axis=1).to_numpy(), concat_np1), axis=1)"
   ]
  },
  {
   "cell_type": "markdown",
   "id": "da8241ef",
   "metadata": {},
   "source": [
    "# Traditional ML Models"
   ]
  },
  {
   "cell_type": "code",
   "execution_count": null,
   "id": "6571cd16",
   "metadata": {},
   "outputs": [],
   "source": [
    "# common libraries\n",
    "from sklearn.linear_model import LogisticRegression\n",
    "from sklearn.tree import DecisionTreeClassifier\n",
    "from sklearn.neighbors import KNeighborsClassifier\n",
    "from sklearn.ensemble import RandomForestClassifier\n",
    "from sklearn.neural_network import MLPClassifier\n",
    "from sklearn.naive_bayes import GaussianNB\n",
    "from sklearn.svm import SVC\n",
    "import xgboost as xgb\n",
    "\n",
    "model_list = [LogisticRegression(), DecisionTreeClassifier(),\n",
    "             RandomForestClassifier(n_estimators=100), GaussianNB(),\n",
    "             SVC(kernel='linear', probability=True),\n",
    "xgb.XGBClassifier(objective='binary:logistic', max_depth=3, learning_rate=0.1, n_estimators=100),\n",
    "             MLPClassifier(hidden_layer_sizes=(50, 50), random_state=42)]"
   ]
  },
  {
   "cell_type": "code",
   "execution_count": 13,
   "id": "d8a7861e",
   "metadata": {
    "execution": {
     "iopub.execute_input": "2023-04-12T13:41:02.262532Z",
     "iopub.status.busy": "2023-04-12T13:41:02.262059Z",
     "iopub.status.idle": "2023-04-12T13:41:04.286998Z",
     "shell.execute_reply": "2023-04-12T13:41:04.285428Z"
    },
    "papermill": {
     "duration": 2.036138,
     "end_time": "2023-04-12T13:41:04.289590",
     "exception": false,
     "start_time": "2023-04-12T13:41:02.253452",
     "status": "completed"
    },
    "tags": []
   },
   "outputs": [
    {
     "name": "stdout",
     "output_type": "stream",
     "text": [
      "Fold: 1.0, AUC under ROC curve: 0.8718 \n",
      "Fold: 2.0, AUC under ROC curve: 0.6761 \n",
      "Fold: 3.0, AUC under ROC curve: 0.7687 \n",
      "Fold: 4.0, AUC under ROC curve: 0.8418 \n",
      "Fold: 5.0, AUC under ROC curve: 0.8104 \n",
      "Fold: 6.0, AUC under ROC curve: 0.8165 \n",
      "Fold: 7.0, AUC under ROC curve: 0.8476 \n",
      "Fold: 8.0, AUC under ROC curve: 0.7525 \n",
      "Fold: 9.0, AUC under ROC curve: 0.7677 \n",
      "Fold: 10.0, AUC under ROC curve: 0.8283 \n",
      "Total Cross validation is 0.7981 +/- 0.0547\n"
     ]
    }
   ],
   "source": [
    "# no transformation \n",
    "# based random forest model\n",
    "\n",
    "# inputs \n",
    "rf = RandomForestClassifier()\n",
    "X_train, y_train = train_set.iloc[:,:-1].to_numpy(), train_set.iloc[:,-1].to_numpy()\n",
    "X_test = test_set.iloc[:,1:].to_numpy()\n",
    "\n",
    "# output\n",
    "y_pred, model_params = train_model(rf, X_train, y_train, X_test)\n",
    "\n",
    "# save the submission \n",
    "pred_outcome = pd.DataFrame(y_pred, columns=[\"target\"])\n",
    "submission_df = pd.concat([test_set['id'], pred_outcome], axis=1)\n",
    "submission_df.to_csv(\"submission.csv\", index=False)"
   ]
  },
  {
   "cell_type": "markdown",
   "id": "f91d3f07",
   "metadata": {},
   "source": [
    "# MLP"
   ]
  },
  {
   "cell_type": "code",
   "execution_count": null,
   "id": "3fc74c09",
   "metadata": {},
   "outputs": [],
   "source": [
    "# basic feature transformation\n",
    "# standardization \n",
    "from sklearn.preprocessing import StandardScaler\n",
    "\n",
    "stand = StandardScaler()\n",
    "X_train = stand.fit_transform(train_set.drop(\"target\", axis=1))\n",
    "X_test = stand.fit_transform(test_set.drop(\"id\", axis=1))\n",
    "y_train = train_set[\"target\"].to_numpy()\n",
    "\n",
    "# best version is :\n",
    "mlp17 = MLPClassifier(hidden_layer_sizes=(50, 50, 50), max_iter=500, activation=\"logistic\")\n",
    "y_pred, model_params = train_model(mlp17, X_train, y_train, X_test)"
   ]
  },
  {
   "cell_type": "code",
   "execution_count": null,
   "id": "d0011c2f",
   "metadata": {},
   "outputs": [],
   "source": [
    "# advanced feature transformation \n",
    "# feature construction \n",
    "## (6-10 features)\n",
    "train_set[\"urea_to_osmo\"] = train_set[\"urea\"]/train_set[\"osmo\"]\n",
    "train_set[\"cal_to_osmo\"] = train_set[\"calc\"]/train_set[\"osmo\"]\n",
    "train_set[\"urea_to_cond\"] = train_set[\"urea\"]/train_set[\"cond\"]\n",
    "train_set[\"cal_to_cond\"] = train_set[\"calc\"]/train_set[\"cond\"]\n",
    "train_set[\"urea_to_cal\"] = train_set[\"urea\"]/train_set[\"calc\"]\n",
    "\n",
    "## other construction features\n",
    "train_set[\"iron_product\"] = train_set[\"calc\"]*train_set[\"urea\"]\n",
    "train_set[\"elect_balance\"] = train_set[\"cond\"]/(10**(-train_set[\"ph\"]))\n",
    "train_set[\"osmo_to_gravity\"] = train_set[\"osmo\"]/train_set[\"gravity\"]\n",
    "train_set[\"osmo_density\"] = train_set[\"osmo\"]*train_set[\"gravity\"]\n",
    "\n",
    "# add new features to the test set\n",
    "## (6-10 features)\n",
    "test_set[\"urea_to_osmo\"] = test_set[\"urea\"]/test_set[\"osmo\"]\n",
    "test_set[\"cal_to_osmo\"] = test_set[\"calc\"]/test_set[\"osmo\"]\n",
    "test_set[\"urea_to_cond\"] = test_set[\"urea\"]/test_set[\"cond\"]\n",
    "test_set[\"cal_to_cond\"] = test_set[\"calc\"]/test_set[\"cond\"]\n",
    "test_set[\"urea_to_cal\"] = test_set[\"urea\"]/test_set[\"calc\"]\n",
    "\n",
    "## other construction features\n",
    "test_set[\"iron_product\"] = test_set[\"calc\"]*test_set[\"urea\"]\n",
    "test_set[\"elect_balance\"] = test_set[\"cond\"]/(10**(-test_set[\"ph\"]))\n",
    "test_set[\"osmo_to_gravity\"] = test_set[\"osmo\"]/test_set[\"gravity\"]\n",
    "test_set[\"osmo_density\"] = test_set[\"osmo\"]*test_set[\"gravity\"]"
   ]
  },
  {
   "cell_type": "code",
   "execution_count": null,
   "id": "5bf2a841",
   "metadata": {},
   "outputs": [],
   "source": [
    "# keep cond and best 1-5:\n",
    "train_set['cond_to_osmo'] = train_set['cond']/train_set['osmo']\n",
    "test_set['cond_to_osmo'] = test_set['cond']/test_set['osmo']\n",
    "\n",
    "## test: drop some less important features \n",
    "new_set = train_set.drop(columns=[\"osmo\", \"urea_to_osmo\", \"urea_to_cond\",\n",
    "                                 \"ph\"], axis=1)\n",
    "new_test = test_set.drop(columns=[\"osmo\", \"urea_to_osmo\", \"urea_to_cond\",\n",
    "                                \"ph\"], axis=1)\n",
    "\n",
    "X_train = stand.fit_transform(new_set.drop(\"target\", axis=1))\n",
    "X_test = stand.fit_transform(new_test.drop(\"id\", axis=1))\n",
    "y_train = train_set[\"target\"].to_numpy()\n",
    "\n",
    "# best version is :\n",
    "mlp18 = MLPClassifier(hidden_layer_sizes=(50, 50, 50), max_iter=500, activation=\"logistic\")\n",
    "y_pred, model_params = train_model(mlp18, X_train, y_train, X_test)"
   ]
  },
  {
   "cell_type": "markdown",
   "id": "847f4ca0",
   "metadata": {},
   "source": [
    "# Boosting"
   ]
  },
  {
   "cell_type": "code",
   "execution_count": null,
   "id": "ccde797a",
   "metadata": {},
   "outputs": [],
   "source": [
    "# XGBoost\n",
    "# inputs \n",
    "X_train, y_train = train_set.drop(\"target\", axis=1).to_numpy(), train_set[\"target\"].to_numpy()\n",
    "X_test = test_set.drop(\"id\", axis=1).to_numpy()\n",
    "model = xgb.XGBClassifier(objective='binary:logistic', max_depth=3, learning_rate=0.1, n_estimators=100)\n",
    "y_pred, model_params = train_model(model,X_train,y_train, X_test)\n",
    "\n",
    "# output \n",
    "pred_df = pd.DataFrame(y_pred, columns=[\"target\"])\n",
    "final_df = pd.concat([test_set[\"id\"], pred_df], axis=1)\n",
    "final_df.to_csv(\"submission.csv\", index=False)\n",
    "final_df"
   ]
  },
  {
   "cell_type": "code",
   "execution_count": null,
   "id": "9af2765a",
   "metadata": {},
   "outputs": [],
   "source": [
    "import lightgbm as lgb\n",
    "\n",
    "# Train the LightGBM model\n",
    "model2 = lgb.LGBMClassifier() \n",
    "model2.fit(X[layer_2_feats], y_train)\n",
    "# Predict probabilities for the test set\n",
    "y_prob = model2.predict_proba(test[layer_2_feats])[:,1]\n",
    "pred_df = pd.DataFrame(y_prob, columns=['target'])\n",
    "pred_df"
   ]
  },
  {
   "cell_type": "markdown",
   "id": "030919b6",
   "metadata": {},
   "source": [
    "# Voting Strategy"
   ]
  },
  {
   "cell_type": "code",
   "execution_count": null,
   "id": "8f40f218",
   "metadata": {},
   "outputs": [],
   "source": [
    "## random forest + xgb\n",
    "from sklearn.ensemble import VotingClassifier\n",
    "from sklearn.model_selection import cross_val_score\n",
    "\n",
    "X_train, y_train = train_set.drop(\"target\", axis=1), train_set[\"target\"]\n",
    "X_test = test_set.drop(\"id\", axis=1)\n",
    "# estimators = [('forest', RandomForestClassifier(n_estimators=100)),\n",
    "#               ('xgb', xgb.XGBClassifier(objective='binary:logistic', max_depth=10, learning_rate=0.1, n_estimators=100))]\n",
    "\n",
    "estimators = [('forest', RandomForestClassifier(n_estimators=100))]\n",
    "ensemble_voting4 = VotingClassifier(estimators=estimators, voting='soft')\n",
    "scores = cross_val_score(ensemble_voting4, X_train, y_train, cv=10,scoring='roc_auc')\n",
    "print(\"Cross-validation scores: {}\".format(scores))\n",
    "print(\"Mean cross-validation score: {:.4f}\".format(scores.mean()))\n",
    "ensemble_voting.fit(X_train, y_train)\n",
    "y_pred = ensemble_voting.predict_proba(X_test)[:,1]\n",
    "y_pred = pd.DataFrame(y_pred, columns=[\"target\"])\n",
    "submission_df = pd.concat([test_set[\"id\"], y_pred], axis=1)\n",
    "submission_df.to_csv(\"submission.csv\", index=False)\n",
    "submission_df\n"
   ]
  },
  {
   "cell_type": "code",
   "execution_count": null,
   "id": "84becb3b",
   "metadata": {},
   "outputs": [],
   "source": [
    "# random forest + xgb\n",
    "from sklearn.ensemble import VotingClassifier\n",
    "from sklearn.model_selection import cross_val_score\n",
    "\n",
    "X_train, y_train = train_set.drop(\"target\", axis=1), train_set[\"target\"]\n",
    "X_test = test_set.drop(\"id\", axis=1)\n",
    "estimators = [('forest', RandomForestClassifier(n_estimators=100)),\n",
    "              ('xgb', xgb.XGBClassifier(objective='binary:logistic', max_depth=10, learning_rate=0.1, n_estimators=100)),\n",
    "             ('svm', SVC(kernel='linear', probability=True))]\n",
    "\n",
    "\n",
    "ensemble_voting2 = VotingClassifier(estimators=estimators, voting='soft')\n",
    "scores = cross_val_score(ensemble_voting2, X_train, y_train, cv=5,scoring='roc_auc')\n",
    "print(\"Cross-validation scores: {}\".format(scores))\n",
    "print(\"Mean cross-validation score: {:.4f}\".format(scores.mean()))"
   ]
  },
  {
   "cell_type": "code",
   "execution_count": null,
   "id": "b71667b7",
   "metadata": {},
   "outputs": [],
   "source": [
    "# random forest + xgb\n",
    "from sklearn.ensemble import VotingClassifier\n",
    "from sklearn.model_selection import cross_val_score\n",
    "\n",
    "X_train, y_train = train_set.drop(\"target\", axis=1), train_set[\"target\"]\n",
    "X_test = test_set.drop(\"id\", axis=1)\n",
    "estimators = [('forest', RandomForestClassifier(n_estimators=100)),\n",
    "              ('xgb', xgb.XGBClassifier(objective='binary:logistic', max_depth=10, learning_rate=0.1, n_estimators=100)),\n",
    "             ('svm', SVC(kernel='linear', probability=True))]\n",
    "\n",
    "\n",
    "ensemble_voting5 = VotingClassifier(estimators=estimators, voting='soft')\n",
    "scores = cross_val_score(ensemble_voting5, X_train, y_train, cv=10,scoring='roc_auc')\n",
    "print(\"Cross-validation scores: {}\".format(scores))\n",
    "print(\"Mean cross-validation score: {:.4f}\".format(scores.mean()))"
   ]
  },
  {
   "cell_type": "code",
   "execution_count": null,
   "id": "6e2070e8",
   "metadata": {},
   "outputs": [],
   "source": [
    "# random forest + xgb\n",
    "from sklearn.ensemble import VotingClassifier\n",
    "from sklearn.model_selection import cross_val_score\n",
    "\n",
    "X_train, y_train = train_set.drop(\"target\", axis=1), train_set[\"target\"]\n",
    "X_test = test_set.drop(\"id\", axis=1)\n",
    "estimators = [('forest', RandomForestClassifier(n_estimators=100)),\n",
    "              ('xgb', xgb.XGBClassifier(objective='binary:logistic', max_depth=10, learning_rate=0.1, n_estimators=100)),\n",
    "             ('svm', SVC(kernel='linear', probability=True)),\n",
    "             ('logr', LogisticRegression())]\n",
    "\n",
    "\n",
    "ensemble_voting6 = VotingClassifier(estimators=estimators, voting='soft')\n",
    "scores = cross_val_score(ensemble_voting6, X_train, y_train, cv=10,scoring='roc_auc')\n",
    "print(\"Cross-validation scores: {}\".format(scores))\n",
    "print(\"Mean cross-validation score: {:.4f}\".format(scores.mean()))"
   ]
  },
  {
   "cell_type": "code",
   "execution_count": null,
   "id": "4c8eef2f",
   "metadata": {},
   "outputs": [],
   "source": [
    "# cross validate each model \n",
    "def cross_validate(model, X_train, y_train):\n",
    "    # check type (must be numpy)\n",
    "    check_dict = {\"X_train\": X_train, \"y_train\": y_train}\n",
    "    for key, value in check_dict.items():\n",
    "        if not isinstance(value, np.ndarray):\n",
    "            raise ValueError (f\"{key} must be a numpy array.\")\n",
    "            \n",
    "    # split k fold\n",
    "    stratkfold = StratifiedKFold(n_splits=5)\n",
    "    kfold = stratkfold.split(X_train, y_train)\n",
    "    \n",
    "    score_list = []\n",
    "    \n",
    "    # start setting the cross validation \n",
    "    for k, (train_idx, val_idx) in enumerate(kfold, 1):\n",
    "        ## fit and predict the model \n",
    "        model.fit(X_train[train_idx,:], y_train[train_idx])\n",
    "        y_pred = model.predict_proba(X_train[val_idx,:])[:,1]\n",
    "        \n",
    "        ## get and print the metric\n",
    "        roc_score = roc_auc_score(y_train[val_idx], y_pred)\n",
    "        score_list.append(roc_score)\n",
    "        print(\"Fold: %.1f, AUC under ROC curve: %.4f \"%(k, roc_score))\n",
    "        \n",
    "    print(\"Total Cross validation is %.4f +/- %.4f\"%(np.mean(score_list), np.std(score_list)))\n",
    "    \n",
    "    return model"
   ]
  },
  {
   "cell_type": "code",
   "execution_count": null,
   "id": "f246fe0a",
   "metadata": {},
   "outputs": [],
   "source": [
    "m1 = RandomForestClassifier(n_estimators=100)\n",
    "m2 = xgb.XGBClassifier(objective='binary:logistic', max_depth=10, learning_rate=0.1, n_estimators=100)\n",
    "m3 = SVC(kernel='linear', probability=True)\n",
    "\n",
    "tune_models = list()\n",
    "X_train, y_train = train_set.drop(\"target\", axis=1).to_numpy(), train_set[\"target\"].to_numpy()\n",
    "X_test = test_set.drop(\"id\", axis=1)\n",
    "\n",
    "for model in [m1,m2,m3]:\n",
    "    tune_model = cross_validate(model,X_train, y_train)\n",
    "    tune_models.append(tune_model)\n",
    "    \n",
    "\n",
    "estimators = [('forest', tune_models[0]),\n",
    "              ('xgb', tune_models[1]),\n",
    "             ('svm', tune_models[2])]\n",
    "\n",
    "ensemble_voting5 = VotingClassifier(estimators=estimators, voting='soft')\n",
    "ensemble_voting5.fit(X_train, y_train)\n",
    "y_pred = ensemble_voting5.predict_proba(X_test)[:,1]\n",
    "\n",
    "pred_df = pd.DataFrame(y_pred, columns=['target'])\n",
    "submission_df = pd.concat([test_set['id'], pred_df], axis=1)\n",
    "submission_df.to_csv(\"submission.csv\", index=False)\n",
    "\n",
    "submission_df\n",
    "    "
   ]
  },
  {
   "cell_type": "markdown",
   "id": "a85bd52a",
   "metadata": {},
   "source": [
    "# Custom Stacking"
   ]
  },
  {
   "cell_type": "code",
   "execution_count": null,
   "id": "5ba36061",
   "metadata": {},
   "outputs": [],
   "source": [
    "# common libraries\n",
    "from sklearn.linear_model import LogisticRegression\n",
    "from sklearn.tree import DecisionTreeClassifier\n",
    "from sklearn.neighbors import KNeighborsClassifier\n",
    "from sklearn.ensemble import RandomForestClassifier\n",
    "from sklearn.neural_network import MLPClassifier\n",
    "from sklearn.naive_bayes import GaussianNB\n",
    "from sklearn.svm import SVC\n",
    "import xgboost as xgb\n",
    "import lightgbm as lgb"
   ]
  },
  {
   "cell_type": "code",
   "execution_count": null,
   "id": "f3c7b154",
   "metadata": {},
   "outputs": [],
   "source": [
    "# set the base models \n",
    "def get_models():\n",
    "    models = dict()\n",
    "    models['logr'] = LogisticRegression()\n",
    "    models['cart'] = DecisionTreeClassifier()\n",
    "    models['knn'] = KNeighborsClassifier()\n",
    "    models['svm'] = SVC(kernel='linear', probability=True)\n",
    "    models['forest'] = RandomForestClassifier(n_estimators=100)\n",
    "#     models['bayes'] = GaussianNB() (very bad from all tests)\n",
    "    models['xgb'] = xgb.XGBClassifier(objective='binary:logistic', max_depth=10, learning_rate=0.1, n_estimators=100)\n",
    "    models['mlp'] = MLPClassifier(hidden_layer_sizes=(50, 50, 50), max_iter=500, activation=\"logistic\")\n",
    "    \n",
    "    return models"
   ]
  },
  {
   "cell_type": "code",
   "execution_count": null,
   "id": "44bdfc1c",
   "metadata": {},
   "outputs": [],
   "source": [
    "# evaluate model (5 cross validation)\n",
    "def validation(model, X_train, y_train, all_pred=False, X_test=None):\n",
    "    from sklearn.model_selection import train_test_split\n",
    "    # check type (must be numpy)\n",
    "    check_dict = {\"X_train\": X_train, \"y_train\": y_train}\n",
    "    for key, value in check_dict.items():\n",
    "        if not isinstance(value, np.ndarray):\n",
    "            raise ValueError (f\"{key} must be a numpy array.\")\n",
    "            \n",
    "    # split k fold\n",
    "#     if all_pred == True: \n",
    "#         X_train, X_val, y_train, y_val = train_test_split(X_train, y_train,\n",
    "#                                                      test_size=0.4)\n",
    "    stratkfold = StratifiedKFold(n_splits=5)\n",
    "    kfold = stratkfold.split(X_train, y_train)\n",
    "    \n",
    "    scores_list = []\n",
    "    # start setting the cross validation \n",
    "    for k, (train_idx, val_idx) in enumerate(kfold, 1):\n",
    "        ## fit and predict the model \n",
    "        model.fit(X_train[train_idx,:], y_train[train_idx])\n",
    "        y_pred = model.predict_proba(X_train[val_idx,:])[:,1]\n",
    "        \n",
    "        ## get and print the metric\n",
    "        roc_score = roc_auc_score(y_train[val_idx], y_pred)\n",
    "        scores_list.append(roc_score)\n",
    "    \n",
    "    # get meta test after meta Xtrain is best\n",
    "    if all_pred == True:\n",
    "        #model.fit(X_train, y_train)\n",
    "        meta_Xtrain = model.predict_proba(X_train)[:,1]\n",
    "        meta_Xtest = model.predict_proba(X_test)[:,1]\n",
    "        \n",
    "        return meta_Xtrain, meta_Xtest #, y_val\n",
    "        \n",
    "    return scores_list"
   ]
  },
  {
   "cell_type": "code",
   "execution_count": null,
   "id": "8f97380e",
   "metadata": {},
   "outputs": [],
   "source": [
    "# plot the based models\n",
    "import matplotlib.pyplot as plt\n",
    "\n",
    "## initialization\n",
    "models = get_models()\n",
    "X_train, y_train = train_set.drop(\"target\", axis=1).to_numpy(), train_set[\"target\"].to_numpy()\n",
    "\n",
    "## train and validate for based models\n",
    "results = dict.fromkeys(list(models.keys()))\n",
    "for key, model in models.items():\n",
    "    scores_list = validation(model,X_train,y_train)\n",
    "    results[key] = scores_list\n",
    "    print(\"%s  %.4f (%.4f)\"%(key, np.mean(scores_list), np.std(scores_list)))\n",
    "    \n",
    "## plot boxplots\n",
    "labels, data = [*zip(*results.items())] \n",
    "plt.boxplot(data, labels=labels, showmeans=True)\n",
    "plt.show()"
   ]
  },
  {
   "cell_type": "code",
   "execution_count": null,
   "id": "d1336b8f",
   "metadata": {},
   "outputs": [],
   "source": [
    "# get diiferent features combinations\n",
    "## use layer 1 features to predict the target (layer1: based models) get proportion\n",
    "from tqdm import tqdm\n",
    "## initialization\n",
    "models = get_models()\n",
    "X_train, y_train = train_set.drop(\"target\", axis=1).to_numpy(), train_set[\"target\"].to_numpy()\n",
    "X_test = test_set.drop(\"id\", axis=1).to_numpy()\n",
    "layer1_feats = dict.fromkeys(list(models.keys()))\n",
    "test_feats = dict.fromkeys(list(models.keys()))\n",
    "\n",
    "# train the base models\n",
    "for key, model in tqdm(models.items()):\n",
    "    meta_Xtrain, meta_Xtest = validation(model,X_train,y_train,all_pred=True,X_test=X_test)\n",
    "    layer1_feats[key] = meta_Xtrain\n",
    "    test_feats[key] = meta_Xtest\n",
    "    \n",
    "# extract all layer 1 features\n",
    "layer1_metaX = pd.DataFrame(layer1_feats)\n",
    "test_metaX = pd.DataFrame(test_feats)"
   ]
  },
  {
   "cell_type": "code",
   "execution_count": null,
   "id": "47e60ccd",
   "metadata": {},
   "outputs": [],
   "source": [
    "# original + layer1 -> predict\n",
    "# layer1_metaX = layer1_metaX.reset_index(drop=True)\n",
    "train_set = train_set.reset_index(drop=True)\n",
    "test_set = test_set.reset_index(drop=True)\n",
    "X_feats = pd.concat([train_set.drop(\"target\", axis=1), layer1_metaX], axis=1)\n",
    "X_tests = pd.concat([test_set.drop(\"id\", axis=1), test_metaX], axis=1,ignore_index=True)"
   ]
  },
  {
   "cell_type": "code",
   "execution_count": null,
   "id": "475a7e7e",
   "metadata": {},
   "outputs": [],
   "source": [
    "# train the model \n",
    "X_train, y_train = X_feats.to_numpy(), train_set[\"target\"].to_numpy()\n",
    "X_test = X_tests.to_numpy()\n",
    "model = RandomForestClassifier(n_estimators=100)\n",
    "y_pred = train_model(model,X_train,y_train,X_test,cv=3)\n",
    "\n",
    "pred_df = pd.DataFrame(y_pred, columns=[\"target\"])\n",
    "submission_df = pd.concat([test_set['id'], pred_df], axis=1)\n",
    "submission_df.to_csv(\"submission.csv\", index=False)\n",
    "\n",
    "submission_df"
   ]
  },
  {
   "cell_type": "code",
   "execution_count": null,
   "id": "e36ec4d6",
   "metadata": {},
   "outputs": [],
   "source": [
    "# get proportion weight for logistic regression \n",
    "meta_model = LogisticRegression()\n",
    "final_pred, weights = train_model(meta_model,layer1_metaX.to_numpy(), \n",
    "                                  y_val,test_metaX.to_numpy())\n",
    "\n",
    "pred_df = pd.DataFrame(final_pred, columns=[\"target\"])\n",
    "submission_df = pd.concat([test_set['id'], pred_df], axis=1)\n",
    "submission_df.to_csv(\"submission.csv\", index=False)\n",
    "\n",
    "submission_df"
   ]
  },
  {
   "cell_type": "code",
   "execution_count": null,
   "id": "5a017374",
   "metadata": {},
   "outputs": [],
   "source": [
    "# get proporation \n",
    "meta_weights = pd.DataFrame(weights.reshape(-1,1), \n",
    "                            index=models.keys(), columns=[\"weights\"])\n",
    "meta_weights"
   ]
  },
  {
   "cell_type": "code",
   "execution_count": null,
   "id": "0bf7a4a7",
   "metadata": {},
   "outputs": [],
   "source": [
    "# no 5cv before \n",
    "from sklearn.model_selection import train_test_split\n",
    "from tqdm import tqdm\n",
    "\n",
    "## initialization\n",
    "models = get_models()\n",
    "X_train, y_train = train_set.drop(\"target\", axis=1).to_numpy(), train_set[\"target\"].to_numpy()\n",
    "X_test = test_set.drop(\"id\", axis=1).to_numpy()\n",
    "X_train, X_val, y_train, y_val = train_test_split(X_train,y_train, test_size=0.4)\n",
    "\n",
    "layer1_feats = dict.fromkeys(list(models.keys()))\n",
    "test_feats = dict.fromkeys(list(models.keys()))\n",
    "\n",
    "meta_Xtrain = list()\n",
    "\n",
    "# train the base models\n",
    "for key, model in tqdm(models.items()):\n",
    "    model.fit(X_train, y_train)\n",
    "    layer1_feats[key] = model.predict_proba(X_val)[:,1]\n",
    "    test_feats[key] = model.predict_proba(X_test)[:,1]\n",
    "    \n",
    "meta_Xtrain = pd.DataFrame(layer1_feats)\n",
    "meta_Xtest = pd.DataFrame(test_feats)\n",
    "\n",
    "meta_model = LogisticRegression()\n",
    "y_pred, weights = train_model(meta_model,meta_Xtrain.to_numpy(),y_val,\n",
    "                              meta_Xtest.to_numpy())"
   ]
  },
  {
   "cell_type": "code",
   "execution_count": null,
   "id": "7ec5282a",
   "metadata": {},
   "outputs": [],
   "source": [
    "# second layer \n",
    "# no 5cv before \n",
    "from sklearn.model_selection import train_test_split\n",
    "from tqdm import tqdm\n",
    "\n",
    "## initialization\n",
    "models = get_models()\n",
    "X_train, y_train = train_set.drop(\"target\", axis=1).to_numpy(), train_set[\"target\"].to_numpy()\n",
    "X_test = test_set.drop(\"id\", axis=1).to_numpy()\n",
    "X_train, X_val, y_train, y_val = train_test_split(X_train,y_train, test_size=0.4)\n",
    "\n",
    "layer1_feats = dict.fromkeys(list(models.keys()))\n",
    "test_feats = dict.fromkeys(list(models.keys()))\n",
    "\n",
    "meta_Xtrain = list()\n",
    "\n",
    "# train the base models\n",
    "for key, model in tqdm(models.items()):\n",
    "    model.fit(X_train, y_train)\n",
    "    layer1_feats[key] = model.predict_proba(X_val)[:,1]\n",
    "    test_feats[key] = model.predict_proba(X_test)[:,1]\n",
    "    \n",
    "meta_Xtrain = pd.DataFrame(layer1_feats)\n",
    "meta_Xtest = pd.DataFrame(test_feats)\n",
    "\n",
    "meta_model = LogisticRegression()\n",
    "layer2_lr = train_model(meta_model,meta_Xtrain.to_numpy(),y_val,   \n",
    "                           meta_Xtest.to_numpy())"
   ]
  },
  {
   "cell_type": "code",
   "execution_count": null,
   "id": "03a92eba",
   "metadata": {},
   "outputs": [],
   "source": [
    "from lightgbm import LGBMClassifier\n",
    "\n",
    "meta_model2 = LGBMClassifier()\n",
    "layer2_lgb = train_model(meta_model2,meta_Xtrain.to_numpy(),y_val,\n",
    "                              meta_Xtest.to_numpy())\n",
    "pred_df = pd.DataFrame(y_pred, columns=[\"target\"])\n",
    "submission_df = pd.concat([test_set['id'], pred_df], axis=1)\n",
    "submission_df.to_csv(\"submission.csv\", index=False)\n",
    "\n",
    "submission_df"
   ]
  },
  {
   "cell_type": "code",
   "execution_count": null,
   "id": "cd0874cc",
   "metadata": {},
   "outputs": [],
   "source": [
    "# get proporation \n",
    "meta_weights = pd.DataFrame(weights.reshape(-1,1), \n",
    "                            index=models.keys(), columns=[\"weights\"])\n",
    "meta_weights"
   ]
  },
  {
   "cell_type": "code",
   "execution_count": null,
   "id": "4f257f4b",
   "metadata": {},
   "outputs": [],
   "source": [
    "# try get stacking \n",
    "from sklearn.model_selection import cross_val_score\n",
    "from mlxtend.classifier import StackingClassifier\n",
    "\n",
    "X_train, y_train = train_set.drop(\"target\", axis=1), train_set[\"target\"]\n",
    "X_test = test_set.drop(\"id\", axis=1)\n",
    "\n",
    "\n",
    "\n",
    "meta_model = LogisticRegression()\n",
    "\n",
    "m1= LogisticRegression()\n",
    "m2 = DecisionTreeClassifier()\n",
    "m3 = KNeighborsClassifier()\n",
    "m4 = SVC(kernel='linear', probability=True)\n",
    "m5 = RandomForestClassifier(n_estimators=100)\n",
    "m6 = xgb.XGBClassifier(objective='binary:logistic', max_depth=10, learning_rate=0.1, n_estimators=100)\n",
    "m7 = MLPClassifier(activation='logistic', hidden_layer_sizes=(50, 50, 50),max_iter=500)\n",
    "\n",
    "stacking = StackingClassifier(classifiers=[m1,m2,m3,m4,m5,m6,m7],use_probas=True,\n",
    "                             meta_classifier=meta_model)\n",
    "\n",
    "print('5-fold cross validation:\\n')\n",
    "\n",
    "for clf, label in zip([m1,m2,m3,m4,m5,m6,m7,stacking], \n",
    "                      ['logr','cart','knn','svm','forest','xgb','mlp','StackingClassifier']):\n",
    "\n",
    "    scores = cross_val_score(clf,X_train, y_train,cv=5,scoring='roc_auc')\n",
    "    print(\"ROC_AUC: %0.4f (+/- %0.4f) [%s]\" % (scores.mean(), scores.std(), label))\n"
   ]
  },
  {
   "cell_type": "code",
   "execution_count": null,
   "id": "332cb82f",
   "metadata": {},
   "outputs": [],
   "source": [
    "# try to combine 2 layer\n",
    "## second layer\n",
    "meta_model1 = LogisticRegression()\n",
    "meta_model2 = lgb.LGBMClassifier()\n",
    "\n",
    "m1= LogisticRegression()\n",
    "m2 = DecisionTreeClassifier()\n",
    "m3 = KNeighborsClassifier()\n",
    "m4 = SVC(kernel='linear', probability=True)\n",
    "m5 = RandomForestClassifier(n_estimators=100)\n",
    "m6 = xgb.XGBClassifier(objective='binary:logistic', max_depth=10, learning_rate=0.1, n_estimators=100)\n",
    "m7 = MLPClassifier(activation='logistic', hidden_layer_sizes=(50, 50, 50),max_iter=500)\n",
    "\n",
    "stacking1 = StackingClassifier(classifiers=[m1,m2,m3,m4,m5,m6,m7],use_probas=True,\n",
    "                             meta_classifier=meta_model1)\n",
    "\n",
    "stacking2 = StackingClassifier(classifiers=[m1,m2,m3,m4,m5,m6,m7],use_probas=True,\n",
    "                             meta_classifier=meta_model2)\n",
    "\n",
    "print('5-fold cross validation:\\n')\n",
    "\n",
    "for clf, label in zip([stacking1, stacking2], \n",
    "                      ['Stacking_LR', 'Stacking_LGBM']):\n",
    "\n",
    "    scores = cross_val_score(clf,X_train, y_train,cv=5,scoring='roc_auc')\n",
    "    print(\"ROC_AUC: %0.4f (+/- %0.4f) [%s]\" % (scores.mean(), scores.std(), label))\n",
    "\n",
    "\n",
    "\n",
    "layer2_lr = stacking1.predict_proba(X_test)\n",
    "layer2_lgb = stacking2.predict_proba(X_test)\n",
    "\n",
    "layer2_feats = np.hstack((layer2_lr, layer2_lgb))"
   ]
  },
  {
   "cell_type": "code",
   "execution_count": null,
   "id": "8d41ce9d",
   "metadata": {},
   "outputs": [],
   "source": [
    "# get proportion weight for logistic regression \n",
    "meta_model = LogisticRegression()\n",
    "meta_model.fit(layer1_metaX, y_train)\n",
    "\n",
    "final_pred = meta_model.predict_proba(test_metaX)[:,1]\n",
    "pred_df = pd.DataFrame(final_pred, columns=[\"target\"])\n",
    "submission_df = pd.concat([test_set['id'], pred_df], axis=1)\n",
    "submission_df.to_csv(\"submission.csv\", index=False)\n",
    "\n",
    "submission_df\n"
   ]
  },
  {
   "cell_type": "code",
   "execution_count": null,
   "id": "260041fe",
   "metadata": {},
   "outputs": [],
   "source": [
    "# get proporation \n",
    "meta_weights = pd.DataFrame(meta_model.coef_.round(2).reshape(-1,1), \n",
    "                            index=models.keys(), columns=[\"weights\"])\n",
    "meta_weights"
   ]
  },
  {
   "cell_type": "code",
   "execution_count": null,
   "id": "6581053d",
   "metadata": {},
   "outputs": [],
   "source": [
    "# based test: use layer 1 features to predict the target (layer1: based models)\n",
    "#very bad 0.78 + \n",
    "# get proportion weight for LGBM\n",
    "meta_model1 = lgb.LGBMClassifier()\n",
    "meta_model1.fit(layer1_metaX, y_train)\n",
    "\n",
    "final_pred1 = meta_model1.predict_proba(test_metaX)[:,1]\n",
    "pred_df = pd.DataFrame(final_pred1, columns=['target'])\n",
    "submission_df = pd.concat([test_set['id'], pred_df], axis=1)\n",
    "submission_df.to_csv(\"submission.csv\", index=False)\n",
    "\n",
    "submission_df\n"
   ]
  },
  {
   "cell_type": "code",
   "execution_count": null,
   "id": "a1378d4d",
   "metadata": {},
   "outputs": [],
   "source": [
    "# get proporation \n",
    "all_sum = np.sum(meta_model1.feature_importances_)\n",
    "meta_weights1 = pd.DataFrame((meta_model1.feature_importances_.reshape(-1,1)/all_sum).round(2), \n",
    "                            index=models.keys(), columns=[\"weights\"])\n",
    "meta_weights1"
   ]
  },
  {
   "cell_type": "markdown",
   "id": "1fb7f36e",
   "metadata": {},
   "source": [
    "# Verstack Stacking"
   ]
  },
  {
   "cell_type": "code",
   "execution_count": null,
   "id": "462998f5",
   "metadata": {},
   "outputs": [],
   "source": [
    "pip install verstack"
   ]
  },
  {
   "cell_type": "code",
   "execution_count": null,
   "id": "b58156ba",
   "metadata": {},
   "outputs": [],
   "source": [
    "from verstack import Stacker\n",
    "\n",
    "# settings specific to auto mode:\n",
    "stacker = Stacker(objective = 'binary',\n",
    "                  auto = True)"
   ]
  },
  {
   "cell_type": "code",
   "execution_count": null,
   "id": "179574c9",
   "metadata": {},
   "outputs": [],
   "source": [
    "X_train, y_train = train_set.drop(\"target\", axis=1), train_set[\"target\"]\n",
    "X_train.reset_index(drop=True, inplace=True)\n",
    "y_train.reset_index(drop=True, inplace=True)\n",
    "X = stacker.fit_transform(X_train, y_train)"
   ]
  },
  {
   "cell_type": "code",
   "execution_count": null,
   "id": "5e3ade60",
   "metadata": {},
   "outputs": [],
   "source": [
    "# get lists of features created in each layer\n",
    "layer_1_feats = stacker.stacked_features['layer_1']\n",
    "layer_2_feats = stacker.stacked_features['layer_2']\n",
    "X_test = test_set.drop(\"id\", axis=1)\n",
    "test = stacker.transform(X_test)"
   ]
  },
  {
   "cell_type": "code",
   "execution_count": null,
   "id": "563e182c",
   "metadata": {},
   "outputs": [],
   "source": [
    "# use feature 1 only\n",
    "model1 = LogisticRegression()\n",
    "y_pred = train_model(model1, X[layer_1_feats].to_numpy(),\n",
    "                    y_train.to_numpy(),test[layer_1_feats].to_numpy())\n"
   ]
  },
  {
   "cell_type": "code",
   "execution_count": null,
   "id": "fd58b200",
   "metadata": {},
   "outputs": [],
   "source": [
    "# use feature 2 only \n",
    "model4 = LogisticRegression()\n",
    "\n",
    "y_pred1 = train_model(model4, X[layer_2_feats].to_numpy(),\n",
    "                      y_train.to_numpy(), test[layer_2_feats].to_numpy())\n",
    "y_pred1 = pd.DataFrame(y_pred1, columns=[\"target\"])\n",
    "submission_df = pd.concat([test_set[\"id\"], y_pred1], axis=1)\n",
    "submission_df.to_csv(\"submission.csv\", index=False)\n",
    "submission_df"
   ]
  },
  {
   "cell_type": "code",
   "execution_count": null,
   "id": "a9e445d2",
   "metadata": {},
   "outputs": [],
   "source": [
    "# use feature 1 + feature 2 \n",
    "model2 = LogisticRegression()\n",
    "\n",
    "X_train1 = np.concatenate((X[layer_1_feats].to_numpy(), X[layer_2_feats].to_numpy()), axis=1)\n",
    "X_test1 = np.concatenate((test[layer_1_feats].to_numpy(), test[layer_2_feats].to_numpy()), axis=1)\n",
    "\n",
    "y_pred1 = train_model(model2, X_train1, y_train.to_numpy(), X_test1)\n",
    "y_pred1 = pd.DataFrame(y_pred1, columns=[\"target\"])\n",
    "submission_df = pd.concat([test_set[\"id\"], y_pred1], axis=1)\n",
    "submission_df.to_csv(\"submission.csv\", index=False)\n",
    "submission_df"
   ]
  },
  {
   "cell_type": "code",
   "execution_count": null,
   "id": "97d3ea9d",
   "metadata": {},
   "outputs": [],
   "source": [
    "# all features\n",
    "model3 = LogisticRegression()\n",
    "y_pred2 = train_model(model3, X.to_numpy(), y_train.to_numpy(), test.to_numpy())\n",
    "y_pred2 = pd.DataFrame(y_pred2, columns=[\"target\"])\n",
    "submission_df = pd.concat([test_set[\"id\"], y_pred2], axis=1)\n",
    "submission_df.to_csv(\"submission.csv\", index=False)\n",
    "submission_df"
   ]
  },
  {
   "cell_type": "code",
   "execution_count": null,
   "id": "efb8a987",
   "metadata": {},
   "outputs": [],
   "source": [
    "# meta training\n",
    "model = LogisticRegression()\n",
    "model.fit(X[layer_1_feats], y_train)\n",
    "y_pred = model.predict_proba(test[layer_1_feats])[:,1]\n",
    "y_pred = pd.DataFrame(y_pred, columns=[\"target\"])\n",
    "submission_df = pd.concat([test_set[\"id\"], y_pred], axis=1)\n",
    "submission_df.to_csv(\"submission.csv\", index=False)\n",
    "submission_df"
   ]
  },
  {
   "cell_type": "code",
   "execution_count": 20,
   "id": "82c74403",
   "metadata": {
    "execution": {
     "iopub.execute_input": "2023-04-12T13:41:04.461397Z",
     "iopub.status.busy": "2023-04-12T13:41:04.460938Z",
     "iopub.status.idle": "2023-04-12T13:41:04.476043Z",
     "shell.execute_reply": "2023-04-12T13:41:04.474749Z"
    },
    "papermill": {
     "duration": 0.026929,
     "end_time": "2023-04-12T13:41:04.478691",
     "exception": false,
     "start_time": "2023-04-12T13:41:04.451762",
     "status": "completed"
    },
    "tags": []
   },
   "outputs": [
    {
     "data": {
      "text/html": [
       "<div>\n",
       "<style scoped>\n",
       "    .dataframe tbody tr th:only-of-type {\n",
       "        vertical-align: middle;\n",
       "    }\n",
       "\n",
       "    .dataframe tbody tr th {\n",
       "        vertical-align: top;\n",
       "    }\n",
       "\n",
       "    .dataframe thead th {\n",
       "        text-align: right;\n",
       "    }\n",
       "</style>\n",
       "<table border=\"1\" class=\"dataframe\">\n",
       "  <thead>\n",
       "    <tr style=\"text-align: right;\">\n",
       "      <th></th>\n",
       "      <th>id</th>\n",
       "      <th>target</th>\n",
       "    </tr>\n",
       "  </thead>\n",
       "  <tbody>\n",
       "    <tr>\n",
       "      <th>0</th>\n",
       "      <td>414</td>\n",
       "      <td>0.180000</td>\n",
       "    </tr>\n",
       "    <tr>\n",
       "      <th>1</th>\n",
       "      <td>415</td>\n",
       "      <td>0.550000</td>\n",
       "    </tr>\n",
       "    <tr>\n",
       "      <th>2</th>\n",
       "      <td>416</td>\n",
       "      <td>0.930000</td>\n",
       "    </tr>\n",
       "    <tr>\n",
       "      <th>3</th>\n",
       "      <td>417</td>\n",
       "      <td>0.400464</td>\n",
       "    </tr>\n",
       "    <tr>\n",
       "      <th>4</th>\n",
       "      <td>418</td>\n",
       "      <td>0.300000</td>\n",
       "    </tr>\n",
       "    <tr>\n",
       "      <th>...</th>\n",
       "      <td>...</td>\n",
       "      <td>...</td>\n",
       "    </tr>\n",
       "    <tr>\n",
       "      <th>271</th>\n",
       "      <td>685</td>\n",
       "      <td>0.660000</td>\n",
       "    </tr>\n",
       "    <tr>\n",
       "      <th>272</th>\n",
       "      <td>686</td>\n",
       "      <td>0.020000</td>\n",
       "    </tr>\n",
       "    <tr>\n",
       "      <th>273</th>\n",
       "      <td>687</td>\n",
       "      <td>0.660000</td>\n",
       "    </tr>\n",
       "    <tr>\n",
       "      <th>274</th>\n",
       "      <td>688</td>\n",
       "      <td>0.050000</td>\n",
       "    </tr>\n",
       "    <tr>\n",
       "      <th>275</th>\n",
       "      <td>689</td>\n",
       "      <td>0.500000</td>\n",
       "    </tr>\n",
       "  </tbody>\n",
       "</table>\n",
       "<p>276 rows × 2 columns</p>\n",
       "</div>"
      ],
      "text/plain": [
       "      id    target\n",
       "0    414  0.180000\n",
       "1    415  0.550000\n",
       "2    416  0.930000\n",
       "3    417  0.400464\n",
       "4    418  0.300000\n",
       "..   ...       ...\n",
       "271  685  0.660000\n",
       "272  686  0.020000\n",
       "273  687  0.660000\n",
       "274  688  0.050000\n",
       "275  689  0.500000\n",
       "\n",
       "[276 rows x 2 columns]"
      ]
     },
     "execution_count": 20,
     "metadata": {},
     "output_type": "execute_result"
    }
   ],
   "source": [
    "submission_df"
   ]
  }
 ],
 "metadata": {
  "kernelspec": {
   "display_name": "Python 3 (ipykernel)",
   "language": "python",
   "name": "python3"
  },
  "language_info": {
   "codemirror_mode": {
    "name": "ipython",
    "version": 3
   },
   "file_extension": ".py",
   "mimetype": "text/x-python",
   "name": "python",
   "nbconvert_exporter": "python",
   "pygments_lexer": "ipython3",
   "version": "3.11.2"
  },
  "papermill": {
   "default_parameters": {},
   "duration": 15.709208,
   "end_time": "2023-04-12T13:41:05.310126",
   "environment_variables": {},
   "exception": null,
   "input_path": "__notebook__.ipynb",
   "output_path": "__notebook__.ipynb",
   "parameters": {},
   "start_time": "2023-04-12T13:40:49.600918",
   "version": "2.4.0"
  }
 },
 "nbformat": 4,
 "nbformat_minor": 5
}
