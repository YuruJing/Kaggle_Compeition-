{
 "cells": [
  {
   "cell_type": "code",
   "execution_count": null,
   "id": "8c3ec36a",
   "metadata": {},
   "outputs": [],
   "source": [
    "# working with data \n",
    "import pandas as pd\n",
    "import numpy as np\n",
    "# stats \n",
    "import scipy #or statsmodel \n",
    "# visualization \n",
    "import matplotlib.pyplot as plt\n",
    "import seaborn as sns \n",
    "# machine learning \n",
    "import sklearn "
   ]
  },
  {
   "cell_type": "markdown",
   "id": "39bb24e7",
   "metadata": {},
   "source": [
    "# Cleaning the dataset "
   ]
  },
  {
   "cell_type": "code",
   "execution_count": null,
   "id": "5e997484",
   "metadata": {},
   "outputs": [],
   "source": []
  },
  {
   "cell_type": "markdown",
   "id": "e1863acd",
   "metadata": {},
   "source": [
    "# Data Visualization "
   ]
  },
  {
   "cell_type": "code",
   "execution_count": null,
   "id": "3341aa92",
   "metadata": {},
   "outputs": [],
   "source": []
  },
  {
   "cell_type": "markdown",
   "id": "ccd30f37",
   "metadata": {},
   "source": [
    "# Feature Engineering "
   ]
  },
  {
   "cell_type": "code",
   "execution_count": null,
   "id": "0c34f7ab",
   "metadata": {},
   "outputs": [],
   "source": []
  }
 ],
 "metadata": {
  "kernelspec": {
   "display_name": "Python [conda env:root] *",
   "language": "python",
   "name": "conda-root-py"
  },
  "language_info": {
   "codemirror_mode": {
    "name": "ipython",
    "version": 3
   },
   "file_extension": ".py",
   "mimetype": "text/x-python",
   "name": "python",
   "nbconvert_exporter": "python",
   "pygments_lexer": "ipython3",
   "version": "3.9.12"
  }
 },
 "nbformat": 4,
 "nbformat_minor": 5
}
