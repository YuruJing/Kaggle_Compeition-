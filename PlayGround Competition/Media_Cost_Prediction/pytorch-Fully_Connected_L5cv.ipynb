{
 "cells": [
  {
   "cell_type": "code",
   "execution_count": 1,
   "id": "773be769",
   "metadata": {
    "execution": {
     "iopub.execute_input": "2023-04-03T15:40:28.634346Z",
     "iopub.status.busy": "2023-04-03T15:40:28.633857Z",
     "iopub.status.idle": "2023-04-03T15:40:31.777981Z",
     "shell.execute_reply": "2023-04-03T15:40:31.776920Z"
    },
    "papermill": {
     "duration": 3.156828,
     "end_time": "2023-04-03T15:40:31.781090",
     "exception": false,
     "start_time": "2023-04-03T15:40:28.624262",
     "status": "completed"
    },
    "tags": []
   },
   "outputs": [],
   "source": [
    "import numpy as np\n",
    "import pandas as pd\n",
    "\n",
    "from typing import List\n",
    "\n",
    "from sklearn.preprocessing import StandardScaler\n",
    "from sklearn.model_selection import train_test_split\n",
    "\n",
    "import torch\n",
    "import torch.nn as nn\n",
    "from torch.utils.data import DataLoader\n",
    "from torch.utils.data import Dataset\n",
    "torch.set_default_dtype(torch.float64)"
   ]
  },
  {
   "cell_type": "code",
   "execution_count": 2,
   "id": "3bfdf328",
   "metadata": {
    "execution": {
     "iopub.execute_input": "2023-04-03T15:40:31.792422Z",
     "iopub.status.busy": "2023-04-03T15:40:31.791722Z",
     "iopub.status.idle": "2023-04-03T15:40:33.222122Z",
     "shell.execute_reply": "2023-04-03T15:40:33.220476Z"
    },
    "papermill": {
     "duration": 1.438643,
     "end_time": "2023-04-03T15:40:33.224371",
     "exception": false,
     "start_time": "2023-04-03T15:40:31.785728",
     "status": "completed"
    },
    "tags": []
   },
   "outputs": [
    {
     "data": {
      "text/html": [
       "<div>\n",
       "<style scoped>\n",
       "    .dataframe tbody tr th:only-of-type {\n",
       "        vertical-align: middle;\n",
       "    }\n",
       "\n",
       "    .dataframe tbody tr th {\n",
       "        vertical-align: top;\n",
       "    }\n",
       "\n",
       "    .dataframe thead th {\n",
       "        text-align: right;\n",
       "    }\n",
       "</style>\n",
       "<table border=\"1\" class=\"dataframe\">\n",
       "  <thead>\n",
       "    <tr style=\"text-align: right;\">\n",
       "      <th></th>\n",
       "      <th>id</th>\n",
       "      <th>store_sales(in millions)</th>\n",
       "      <th>unit_sales(in millions)</th>\n",
       "      <th>total_children</th>\n",
       "      <th>num_children_at_home</th>\n",
       "      <th>avg_cars_at home(approx).1</th>\n",
       "      <th>gross_weight</th>\n",
       "      <th>recyclable_package</th>\n",
       "      <th>low_fat</th>\n",
       "      <th>units_per_case</th>\n",
       "      <th>store_sqft</th>\n",
       "      <th>coffee_bar</th>\n",
       "      <th>video_store</th>\n",
       "      <th>salad_bar</th>\n",
       "      <th>prepared_food</th>\n",
       "      <th>florist</th>\n",
       "      <th>cost</th>\n",
       "    </tr>\n",
       "  </thead>\n",
       "  <tbody>\n",
       "    <tr>\n",
       "      <th>0</th>\n",
       "      <td>0</td>\n",
       "      <td>8.61</td>\n",
       "      <td>3.0</td>\n",
       "      <td>2.0</td>\n",
       "      <td>2.0</td>\n",
       "      <td>2.0</td>\n",
       "      <td>10.30</td>\n",
       "      <td>1.0</td>\n",
       "      <td>0.0</td>\n",
       "      <td>32.0</td>\n",
       "      <td>36509.0</td>\n",
       "      <td>0.0</td>\n",
       "      <td>0.0</td>\n",
       "      <td>0.0</td>\n",
       "      <td>0.0</td>\n",
       "      <td>0.0</td>\n",
       "      <td>62.09</td>\n",
       "    </tr>\n",
       "    <tr>\n",
       "      <th>1</th>\n",
       "      <td>1</td>\n",
       "      <td>5.00</td>\n",
       "      <td>2.0</td>\n",
       "      <td>4.0</td>\n",
       "      <td>0.0</td>\n",
       "      <td>3.0</td>\n",
       "      <td>6.66</td>\n",
       "      <td>1.0</td>\n",
       "      <td>0.0</td>\n",
       "      <td>1.0</td>\n",
       "      <td>28206.0</td>\n",
       "      <td>1.0</td>\n",
       "      <td>0.0</td>\n",
       "      <td>0.0</td>\n",
       "      <td>0.0</td>\n",
       "      <td>0.0</td>\n",
       "      <td>121.80</td>\n",
       "    </tr>\n",
       "    <tr>\n",
       "      <th>2</th>\n",
       "      <td>2</td>\n",
       "      <td>14.08</td>\n",
       "      <td>4.0</td>\n",
       "      <td>0.0</td>\n",
       "      <td>0.0</td>\n",
       "      <td>3.0</td>\n",
       "      <td>21.30</td>\n",
       "      <td>1.0</td>\n",
       "      <td>0.0</td>\n",
       "      <td>26.0</td>\n",
       "      <td>21215.0</td>\n",
       "      <td>1.0</td>\n",
       "      <td>0.0</td>\n",
       "      <td>0.0</td>\n",
       "      <td>0.0</td>\n",
       "      <td>0.0</td>\n",
       "      <td>83.51</td>\n",
       "    </tr>\n",
       "    <tr>\n",
       "      <th>3</th>\n",
       "      <td>3</td>\n",
       "      <td>4.02</td>\n",
       "      <td>3.0</td>\n",
       "      <td>5.0</td>\n",
       "      <td>0.0</td>\n",
       "      <td>0.0</td>\n",
       "      <td>14.80</td>\n",
       "      <td>0.0</td>\n",
       "      <td>1.0</td>\n",
       "      <td>36.0</td>\n",
       "      <td>21215.0</td>\n",
       "      <td>1.0</td>\n",
       "      <td>0.0</td>\n",
       "      <td>0.0</td>\n",
       "      <td>0.0</td>\n",
       "      <td>0.0</td>\n",
       "      <td>66.78</td>\n",
       "    </tr>\n",
       "    <tr>\n",
       "      <th>4</th>\n",
       "      <td>4</td>\n",
       "      <td>2.13</td>\n",
       "      <td>3.0</td>\n",
       "      <td>5.0</td>\n",
       "      <td>0.0</td>\n",
       "      <td>3.0</td>\n",
       "      <td>17.00</td>\n",
       "      <td>1.0</td>\n",
       "      <td>1.0</td>\n",
       "      <td>20.0</td>\n",
       "      <td>27694.0</td>\n",
       "      <td>1.0</td>\n",
       "      <td>1.0</td>\n",
       "      <td>1.0</td>\n",
       "      <td>1.0</td>\n",
       "      <td>1.0</td>\n",
       "      <td>111.51</td>\n",
       "    </tr>\n",
       "  </tbody>\n",
       "</table>\n",
       "</div>"
      ],
      "text/plain": [
       "   id  store_sales(in millions)  unit_sales(in millions)  total_children  \\\n",
       "0   0                      8.61                      3.0             2.0   \n",
       "1   1                      5.00                      2.0             4.0   \n",
       "2   2                     14.08                      4.0             0.0   \n",
       "3   3                      4.02                      3.0             5.0   \n",
       "4   4                      2.13                      3.0             5.0   \n",
       "\n",
       "   num_children_at_home  avg_cars_at home(approx).1  gross_weight  \\\n",
       "0                   2.0                         2.0         10.30   \n",
       "1                   0.0                         3.0          6.66   \n",
       "2                   0.0                         3.0         21.30   \n",
       "3                   0.0                         0.0         14.80   \n",
       "4                   0.0                         3.0         17.00   \n",
       "\n",
       "   recyclable_package  low_fat  units_per_case  store_sqft  coffee_bar  \\\n",
       "0                 1.0      0.0            32.0     36509.0         0.0   \n",
       "1                 1.0      0.0             1.0     28206.0         1.0   \n",
       "2                 1.0      0.0            26.0     21215.0         1.0   \n",
       "3                 0.0      1.0            36.0     21215.0         1.0   \n",
       "4                 1.0      1.0            20.0     27694.0         1.0   \n",
       "\n",
       "   video_store  salad_bar  prepared_food  florist    cost  \n",
       "0          0.0        0.0            0.0      0.0   62.09  \n",
       "1          0.0        0.0            0.0      0.0  121.80  \n",
       "2          0.0        0.0            0.0      0.0   83.51  \n",
       "3          0.0        0.0            0.0      0.0   66.78  \n",
       "4          1.0        1.0            1.0      1.0  111.51  "
      ]
     },
     "execution_count": 2,
     "metadata": {},
     "output_type": "execute_result"
    }
   ],
   "source": [
    "training_set = pd.read_csv('/kaggle/input/playground-series-s3e11/train.csv')\n",
    "submission_set = pd.read_csv('/kaggle/input/playground-series-s3e11/test.csv')\n",
    "sample_submission =pd.read_csv('/kaggle/input/playground-series-s3e11/sample_submission.csv')\n",
    "training_set.head()"
   ]
  },
  {
   "cell_type": "markdown",
   "id": "582881a8",
   "metadata": {
    "papermill": {
     "duration": 0.004396,
     "end_time": "2023-04-03T15:40:33.233569",
     "exception": false,
     "start_time": "2023-04-03T15:40:33.229173",
     "status": "completed"
    },
    "tags": []
   },
   "source": [
    "**The Neural Network class**"
   ]
  },
  {
   "cell_type": "code",
   "execution_count": 3,
   "id": "caf179e3",
   "metadata": {
    "execution": {
     "iopub.execute_input": "2023-04-03T15:40:33.244034Z",
     "iopub.status.busy": "2023-04-03T15:40:33.243750Z",
     "iopub.status.idle": "2023-04-03T15:40:33.253539Z",
     "shell.execute_reply": "2023-04-03T15:40:33.252462Z"
    },
    "papermill": {
     "duration": 0.018002,
     "end_time": "2023-04-03T15:40:33.255984",
     "exception": false,
     "start_time": "2023-04-03T15:40:33.237982",
     "status": "completed"
    },
    "tags": []
   },
   "outputs": [],
   "source": [
    "class FCN(nn.Module):\n",
    "    def __init__(self, input_size, output_size=1, norm=False):\n",
    "        super(FCN, self).__init__()\n",
    "        \n",
    "        # use normalization layers or not\n",
    "        self.norm = norm\n",
    "        \n",
    "        if self.norm == False: # need normalization \n",
    "            self.layers = nn.ModuleList([\n",
    "                nn.Linear(input_size,100),\n",
    "                nn.ReLU(),\n",
    "                nn.Linear(100,100),  \n",
    "                nn.ReLU(),\n",
    "                nn.Linear(100,90),\n",
    "                nn.ReLU(),\n",
    "                nn.Linear(100,100),\n",
    "                nn.ReLU(),\n",
    "                nn.Linear(100,100),\n",
    "                nn.ReLU()\n",
    "            ])\n",
    "            \n",
    "        else: # change leckyrelu to relu, then norm works (layernorm is better)\n",
    "            self.layers = nn.ModuleList([\n",
    "                nn.LayerNorm(input_size), \n",
    "                nn.Linear(input_size,100),\n",
    "                nn.ReLU(),\n",
    "                nn.LayerNorm(100), \n",
    "                nn.Linear(100,100),\n",
    "                nn.ReLU(),\n",
    "                nn.LayerNorm(100),\n",
    "                nn.Linear(100,100),\n",
    "                nn.ReLU(),\n",
    "                nn.LayerNorm(100),\n",
    "                nn.Linear(100,100),\n",
    "                nn.ReLU(),\n",
    "                nn.LayerNorm(100), \n",
    "                nn.Linear(100,output_size),\n",
    "                nn.ReLU() # must use relu in the last layer to keep nonnegative\n",
    "            ])\n",
    "            \n",
    "    def forward(self, x):\n",
    "        for layer in self.layers:\n",
    "            x = layer(x)\n",
    "            \n",
    "        return x"
   ]
  },
  {
   "cell_type": "code",
   "execution_count": 4,
   "id": "8c5405fe",
   "metadata": {
    "execution": {
     "iopub.execute_input": "2023-04-03T15:40:33.266015Z",
     "iopub.status.busy": "2023-04-03T15:40:33.265745Z",
     "iopub.status.idle": "2023-04-03T15:40:33.273308Z",
     "shell.execute_reply": "2023-04-03T15:40:33.272431Z"
    },
    "papermill": {
     "duration": 0.014932,
     "end_time": "2023-04-03T15:40:33.275390",
     "exception": false,
     "start_time": "2023-04-03T15:40:33.260458",
     "status": "completed"
    },
    "tags": []
   },
   "outputs": [],
   "source": [
    "class EarlyStopping():\n",
    "    \"\"\"\n",
    "    Early stopping to stop the training when the loss does not improve after\n",
    "    certain epochs.\n",
    "    \"\"\"\n",
    "    def __init__(self, patience=5, min_delta=0.1):\n",
    "        \"\"\"\n",
    "        :param patience: how many epochs to wait before stopping when loss is\n",
    "               not improving\n",
    "        :param min_delta: minimum difference between new loss and old loss for\n",
    "               new loss to be considered as an improvement\n",
    "        \"\"\"\n",
    "        self.patience = patience\n",
    "        self.min_delta = min_delta\n",
    "        self.counter = 0\n",
    "        self.best_loss = None\n",
    "        self.early_stop = False\n",
    "    def __call__(self, val_loss):\n",
    "        if self.best_loss == None:\n",
    "            self.best_loss = val_loss\n",
    "        elif self.best_loss - val_loss > self.min_delta:\n",
    "            self.best_loss = val_loss\n",
    "            # reset counter if validation loss improves\n",
    "            self.counter = 0\n",
    "        elif self.best_loss - val_loss < self.min_delta:\n",
    "            self.counter += 1\n",
    "            print(f\"INFO: Early stopping counter {self.counter} of {self.patience}\")\n",
    "            if self.counter >= self.patience:\n",
    "                print('INFO: Early stopping')\n",
    "                self.early_stop = True"
   ]
  },
  {
   "cell_type": "code",
   "execution_count": 5,
   "id": "b2076b1c",
   "metadata": {
    "execution": {
     "iopub.execute_input": "2023-04-03T15:40:33.285454Z",
     "iopub.status.busy": "2023-04-03T15:40:33.285175Z",
     "iopub.status.idle": "2023-04-03T15:40:33.290667Z",
     "shell.execute_reply": "2023-04-03T15:40:33.289625Z"
    },
    "papermill": {
     "duration": 0.012886,
     "end_time": "2023-04-03T15:40:33.292728",
     "exception": false,
     "start_time": "2023-04-03T15:40:33.279842",
     "status": "completed"
    },
    "tags": []
   },
   "outputs": [],
   "source": [
    "class custom_dataset():\n",
    "    def __init__(self, features, target):\n",
    "        \n",
    "        self.features = features\n",
    "        self.target = target\n",
    "        \n",
    "    def __len__(self):\n",
    "        return len(self.target)\n",
    "    \n",
    "    def __getitem__(self, idx):\n",
    "        \n",
    "        target = self.target[idx]\n",
    "        features = self.features[idx,:]\n",
    "        \n",
    "        return features, target    "
   ]
  },
  {
   "cell_type": "markdown",
   "id": "09074b6d",
   "metadata": {
    "papermill": {
     "duration": 0.004402,
     "end_time": "2023-04-03T15:40:33.301596",
     "exception": false,
     "start_time": "2023-04-03T15:40:33.297194",
     "status": "completed"
    },
    "tags": []
   },
   "source": [
    "### PyTorch implementation of the **Root Mean Squared Logarithmic Error** for scoring our predictions: <a id='section_id0'></a>"
   ]
  },
  {
   "cell_type": "code",
   "execution_count": 6,
   "id": "0a64eea1",
   "metadata": {
    "execution": {
     "iopub.execute_input": "2023-04-03T15:40:33.311524Z",
     "iopub.status.busy": "2023-04-03T15:40:33.311247Z",
     "iopub.status.idle": "2023-04-03T15:40:33.316841Z",
     "shell.execute_reply": "2023-04-03T15:40:33.315874Z"
    },
    "papermill": {
     "duration": 0.012959,
     "end_time": "2023-04-03T15:40:33.318945",
     "exception": false,
     "start_time": "2023-04-03T15:40:33.305986",
     "status": "completed"
    },
    "tags": []
   },
   "outputs": [],
   "source": [
    "class RMSLE(nn.Module):\n",
    "    def __init__(self):\n",
    "        super().__init__()\n",
    "        self.mse = nn.MSELoss()\n",
    "        \n",
    "    def forward(self, pred, true):\n",
    "        \n",
    "        if (pred < 0).any() or (true < 0).any():\n",
    "            raise ValueError(\n",
    "                \"Root Mean Squared Logarithmic Error cannot be used when \"\n",
    "                \"the argument contain negative values.\"  )\n",
    "        \n",
    "        return torch.sqrt(self.mse(torch.log1p(pred), torch.log1p(true)))"
   ]
  },
  {
   "cell_type": "markdown",
   "id": "08f120bd",
   "metadata": {
    "papermill": {
     "duration": 0.004282,
     "end_time": "2023-04-03T15:40:33.327648",
     "exception": false,
     "start_time": "2023-04-03T15:40:33.323366",
     "status": "completed"
    },
    "tags": []
   },
   "source": [
    "### **Preprocessing**"
   ]
  },
  {
   "cell_type": "code",
   "execution_count": 7,
   "id": "bf2d3bb7",
   "metadata": {
    "execution": {
     "iopub.execute_input": "2023-04-03T15:40:33.338118Z",
     "iopub.status.busy": "2023-04-03T15:40:33.337393Z",
     "iopub.status.idle": "2023-04-03T15:40:33.520605Z",
     "shell.execute_reply": "2023-04-03T15:40:33.519466Z"
    },
    "papermill": {
     "duration": 0.191475,
     "end_time": "2023-04-03T15:40:33.523560",
     "exception": false,
     "start_time": "2023-04-03T15:40:33.332085",
     "status": "completed"
    },
    "tags": []
   },
   "outputs": [],
   "source": [
    "training_set = training_set.drop(['id'], axis = 1)\n",
    "training_set['child_report_ratio'] = training_set['num_children_at_home'] / training_set['total_children']\n",
    "training_set['child_report_ratio'].fillna(0, inplace = True)\n",
    "training_set[\"revenue_per_store\"] =  training_set['store_sales(in millions)'] / training_set['unit_sales(in millions)']\n",
    "training_set = training_set.drop(['salad_bar', 'gross_weight','recyclable_package', 'units_per_case', 'store_sales(in millions)', 'unit_sales(in millions)'], axis = 1)\n",
    "\n",
    "submission_set['child_report_ratio'] = submission_set['num_children_at_home'] / submission_set['total_children']\n",
    "submission_set['child_report_ratio'].fillna(0, inplace = True)\n",
    "submission_set[\"revenue_per_store\"] =  submission_set['store_sales(in millions)'] / submission_set['unit_sales(in millions)']\n",
    "submission_set = submission_set.drop(['salad_bar', 'gross_weight','recyclable_package', 'units_per_case', 'store_sales(in millions)', 'unit_sales(in millions)'], axis = 1)\n",
    "\n",
    "ids = submission_set.pop('id')\n",
    "target = training_set.pop('cost')\n",
    "\n",
    "sc = StandardScaler()\n",
    "y = target.to_numpy()\n",
    "X = training_set.to_numpy()\n",
    "\n",
    "# X_train, X_test, y_train, y_test = train_test_split(X, y, test_size = 0.2, random_state = 17)\n",
    "\n",
    "X_train = sc.fit_transform(X)\n",
    "# X_test = sc.transform(X_test)"
   ]
  },
  {
   "cell_type": "markdown",
   "id": "dab3f234",
   "metadata": {
    "papermill": {
     "duration": 0.005163,
     "end_time": "2023-04-03T15:40:33.533687",
     "exception": false,
     "start_time": "2023-04-03T15:40:33.528524",
     "status": "completed"
    },
    "tags": []
   },
   "source": [
    "### **Modelling Options**"
   ]
  },
  {
   "cell_type": "code",
   "execution_count": 8,
   "id": "aa62f25c",
   "metadata": {
    "execution": {
     "iopub.execute_input": "2023-04-03T15:40:33.544993Z",
     "iopub.status.busy": "2023-04-03T15:40:33.544671Z",
     "iopub.status.idle": "2023-04-03T15:40:33.549874Z",
     "shell.execute_reply": "2023-04-03T15:40:33.548818Z"
    },
    "papermill": {
     "duration": 0.013656,
     "end_time": "2023-04-03T15:40:33.552209",
     "exception": false,
     "start_time": "2023-04-03T15:40:33.538553",
     "status": "completed"
    },
    "tags": []
   },
   "outputs": [],
   "source": [
    "n_features = len(list(training_set.columns))\n",
    "n_epochs = 100\n",
    "batch_size = 100\n",
    "\n",
    "# Early stopping parameters\n",
    "patience = 15\n",
    "min_change = 0.0001"
   ]
  },
  {
   "cell_type": "markdown",
   "id": "de1dd7ac",
   "metadata": {
    "papermill": {
     "duration": 0.004734,
     "end_time": "2023-04-03T15:40:33.588507",
     "exception": false,
     "start_time": "2023-04-03T15:40:33.583773",
     "status": "completed"
    },
    "tags": []
   },
   "source": [
    "### **Main training loop**"
   ]
  },
  {
   "cell_type": "code",
   "execution_count": 10,
   "id": "6bda79e2",
   "metadata": {
    "execution": {
     "iopub.execute_input": "2023-04-03T15:40:33.598806Z",
     "iopub.status.busy": "2023-04-03T15:40:33.598545Z",
     "iopub.status.idle": "2023-04-03T15:40:36.305421Z",
     "shell.execute_reply": "2023-04-03T15:40:36.304384Z"
    },
    "papermill": {
     "duration": 2.714891,
     "end_time": "2023-04-03T15:40:36.308168",
     "exception": false,
     "start_time": "2023-04-03T15:40:33.593277",
     "status": "completed"
    },
    "tags": []
   },
   "outputs": [],
   "source": [
    "from sklearn.model_selection import KFold\n",
    "# add 5 cv\n",
    "device = torch.device('cuda:0')\n",
    "\n",
    "model = FCN(n_features, norm=True)\n",
    "\n",
    "model.to(device)\n",
    "\n",
    "loss_function = RMSLE()\n",
    "optimizer = torch.optim.Adam(model.parameters(), lr=0.001)\n",
    "early_stopper = EarlyStopping(patience = patience, min_delta = min_change)\n",
    "lr_scheduler = torch.optim.lr_scheduler.ReduceLROnPlateau( \n",
    "                optimizer = optimizer,\n",
    "                mode='min',\n",
    "                patience = 10,\n",
    "                factor = 0.1,\n",
    "                min_lr=1e-5,\n",
    "                verbose=True)\n",
    "\n",
    "k_folds = 5\n",
    "kfold = KFold(n_splits=k_folds, shuffle=True)\n",
    "dataset = custom_dataset(X_train, y)"
   ]
  },
  {
   "cell_type": "code",
   "execution_count": 11,
   "id": "eaacfdfd",
   "metadata": {
    "execution": {
     "iopub.execute_input": "2023-04-03T15:40:36.321468Z",
     "iopub.status.busy": "2023-04-03T15:40:36.319695Z",
     "iopub.status.idle": "2023-04-03T18:04:04.149833Z",
     "shell.execute_reply": "2023-04-03T18:04:04.148716Z"
    },
    "papermill": {
     "duration": 8607.8387,
     "end_time": "2023-04-03T18:04:04.152549",
     "exception": false,
     "start_time": "2023-04-03T15:40:36.313849",
     "status": "completed"
    },
    "tags": []
   },
   "outputs": [
    {
     "name": "stdout",
     "output_type": "stream",
     "text": [
      "FOLD 1\n",
      "--------------------------------\n",
      "Valid Loss:4.302041241850126 Epoch:50\n",
      "Loss: 0.6299599446886005 Epoch:50\n",
      "Valid Loss:0.2959791551764197 Epoch:100\n",
      "Loss: 0.2940599266202339 Epoch:100\n",
      "Valid Loss:0.2950030829053492 Epoch:150\n",
      "Loss: 0.2923824488132978 Epoch:150\n",
      "FOLD 2\n",
      "--------------------------------\n",
      "Valid Loss:0.2907411669143708 Epoch:50\n",
      "Loss: 0.2925615279541563 Epoch:50\n",
      "Valid Loss:0.2937225362165123 Epoch:100\n",
      "Loss: 0.29117581956636124 Epoch:100\n",
      "Valid Loss:0.2943367692584605 Epoch:150\n",
      "Loss: 0.29052155013342035 Epoch:150\n",
      "FOLD 3\n",
      "--------------------------------\n",
      "Valid Loss:0.2892351624918386 Epoch:50\n",
      "Loss: 0.29113141123777914 Epoch:50\n",
      "Valid Loss:0.2940648012172618 Epoch:100\n",
      "Loss: 0.28976146383008056 Epoch:100\n",
      "Valid Loss:0.29476241674040726 Epoch:150\n",
      "Loss: 0.289209875928229 Epoch:150\n",
      "FOLD 4\n",
      "--------------------------------\n",
      "Valid Loss:0.2871787549177392 Epoch:50\n",
      "Loss: 0.2906779183873658 Epoch:50\n",
      "Valid Loss:0.29209845824636127 Epoch:100\n",
      "Loss: 0.28932063403268177 Epoch:100\n",
      "Valid Loss:0.29301204828775823 Epoch:150\n",
      "Loss: 0.2888102162711145 Epoch:150\n",
      "FOLD 5\n",
      "--------------------------------\n",
      "Valid Loss:0.2877581338192332 Epoch:50\n",
      "Loss: 0.2898539474430206 Epoch:50\n",
      "Valid Loss:0.29306728447606945 Epoch:100\n",
      "Loss: 0.288392276350992 Epoch:100\n",
      "Valid Loss:0.29389980980183017 Epoch:150\n",
      "Loss: 0.28796724856520256 Epoch:150\n"
     ]
    }
   ],
   "source": [
    "from torch.utils.data import SubsetRandomSampler\n",
    "\n",
    "\n",
    "for fold, (train_ids, valid_ids) in enumerate(kfold.split(dataset)):\n",
    "    print(f'FOLD {fold+1}')\n",
    "    print('--------------------------------')\n",
    "    train_subsampler = SubsetRandomSampler(train_ids)\n",
    "    valid_subsampler = SubsetRandomSampler(valid_ids)\n",
    "    \n",
    "    train_loader = DataLoader(dataset, batch_size=batch_size, sampler=train_subsampler)\n",
    "    valid_loader = DataLoader(dataset, batch_size=batch_size, sampler=valid_subsampler)\n",
    "    for epoch in range(150):\n",
    "        with torch.no_grad():\n",
    "            valid_loss = 0\n",
    "            num_right = 0\n",
    "            for tensor_x, tensor_y in valid_loader:\n",
    "                tensor_x = tensor_x.to(device)\n",
    "                tensor_y = tensor_y.reshape(-1, 1).to(device)\n",
    "                output = model1(tensor_x)\n",
    "                loss = loss_function(output, tensor_y)\n",
    "                valid_loss += loss.item() * len(tensor_x)\n",
    "\n",
    "            \n",
    "            valid_loss = valid_loss / len(valid_loader.sampler.indices)\n",
    "\n",
    "            if epoch % 50 == 0:\n",
    "                print('Valid Loss:{} Epoch:{}'.format(valid_loss, epoch+50))\n",
    "\n",
    "        train_loss = 0\n",
    "        num_right = 0\n",
    "        for tensor_x, tensor_y in train_loader:\n",
    "            tensor_x = tensor_x.to(device)\n",
    "            tensor_y = tensor_y.reshape(-1, 1).to(device)\n",
    "            optimizer.zero_grad()\n",
    "            output = model1(tensor_x)\n",
    "            loss = loss_function(output, tensor_y)\n",
    "            loss.backward()\n",
    "            optimizer.step()\n",
    "\n",
    "            train_loss += loss.item() * len(tensor_x)\n",
    "\n",
    "        \n",
    "        train_loss = train_loss / len(train_loader.sampler.indices)\n",
    "    \n",
    "        if epoch % 50 == 0:\n",
    "            print('Loss: {} Epoch:{}'.format(train_loss, epoch+50))"
   ]
  },
  {
   "cell_type": "markdown",
   "id": "996c8f0c",
   "metadata": {
    "papermill": {
     "duration": 0.006113,
     "end_time": "2023-04-03T18:04:04.186594",
     "exception": false,
     "start_time": "2023-04-03T18:04:04.180481",
     "status": "completed"
    },
    "tags": []
   },
   "source": [
    "### **Predictions on the test set**"
   ]
  },
  {
   "cell_type": "code",
   "execution_count": 13,
   "id": "e4d20f1d",
   "metadata": {
    "execution": {
     "iopub.execute_input": "2023-04-03T18:04:04.201725Z",
     "iopub.status.busy": "2023-04-03T18:04:04.200105Z",
     "iopub.status.idle": "2023-04-03T18:04:04.734669Z",
     "shell.execute_reply": "2023-04-03T18:04:04.733632Z"
    },
    "papermill": {
     "duration": 0.544278,
     "end_time": "2023-04-03T18:04:04.737142",
     "exception": false,
     "start_time": "2023-04-03T18:04:04.192864",
     "status": "completed"
    },
    "tags": []
   },
   "outputs": [],
   "source": [
    "submission_features = torch.tensor(sc.transform(submission_set.to_numpy())).to(device)\n",
    "predictions = model1(submission_features)\n",
    "\n",
    "test_predictions = pd.DataFrame(predictions.flatten().tolist(), columns=['cost'])\n",
    "\n",
    "result = pd.concat([ids, test_predictions], axis=1)\n",
    "\n",
    "result.to_csv('submission.csv',index =False)"
   ]
  },
  {
   "cell_type": "code",
   "execution_count": 14,
   "id": "aa945dc4",
   "metadata": {
    "execution": {
     "iopub.execute_input": "2023-04-03T18:04:04.752145Z",
     "iopub.status.busy": "2023-04-03T18:04:04.751824Z",
     "iopub.status.idle": "2023-04-03T18:04:04.764084Z",
     "shell.execute_reply": "2023-04-03T18:04:04.762990Z"
    },
    "papermill": {
     "duration": 0.022885,
     "end_time": "2023-04-03T18:04:04.766733",
     "exception": false,
     "start_time": "2023-04-03T18:04:04.743848",
     "status": "completed"
    },
    "tags": []
   },
   "outputs": [
    {
     "data": {
      "text/html": [
       "<div>\n",
       "<style scoped>\n",
       "    .dataframe tbody tr th:only-of-type {\n",
       "        vertical-align: middle;\n",
       "    }\n",
       "\n",
       "    .dataframe tbody tr th {\n",
       "        vertical-align: top;\n",
       "    }\n",
       "\n",
       "    .dataframe thead th {\n",
       "        text-align: right;\n",
       "    }\n",
       "</style>\n",
       "<table border=\"1\" class=\"dataframe\">\n",
       "  <thead>\n",
       "    <tr style=\"text-align: right;\">\n",
       "      <th></th>\n",
       "      <th>id</th>\n",
       "      <th>cost</th>\n",
       "    </tr>\n",
       "  </thead>\n",
       "  <tbody>\n",
       "    <tr>\n",
       "      <th>0</th>\n",
       "      <td>360336</td>\n",
       "      <td>94.529705</td>\n",
       "    </tr>\n",
       "    <tr>\n",
       "      <th>1</th>\n",
       "      <td>360337</td>\n",
       "      <td>91.177008</td>\n",
       "    </tr>\n",
       "    <tr>\n",
       "      <th>2</th>\n",
       "      <td>360338</td>\n",
       "      <td>89.415476</td>\n",
       "    </tr>\n",
       "    <tr>\n",
       "      <th>3</th>\n",
       "      <td>360339</td>\n",
       "      <td>108.532481</td>\n",
       "    </tr>\n",
       "    <tr>\n",
       "      <th>4</th>\n",
       "      <td>360340</td>\n",
       "      <td>79.510250</td>\n",
       "    </tr>\n",
       "    <tr>\n",
       "      <th>...</th>\n",
       "      <td>...</td>\n",
       "      <td>...</td>\n",
       "    </tr>\n",
       "    <tr>\n",
       "      <th>240219</th>\n",
       "      <td>600555</td>\n",
       "      <td>101.802530</td>\n",
       "    </tr>\n",
       "    <tr>\n",
       "      <th>240220</th>\n",
       "      <td>600556</td>\n",
       "      <td>93.375311</td>\n",
       "    </tr>\n",
       "    <tr>\n",
       "      <th>240221</th>\n",
       "      <td>600557</td>\n",
       "      <td>96.517180</td>\n",
       "    </tr>\n",
       "    <tr>\n",
       "      <th>240222</th>\n",
       "      <td>600558</td>\n",
       "      <td>108.511054</td>\n",
       "    </tr>\n",
       "    <tr>\n",
       "      <th>240223</th>\n",
       "      <td>600559</td>\n",
       "      <td>106.555719</td>\n",
       "    </tr>\n",
       "  </tbody>\n",
       "</table>\n",
       "<p>240224 rows × 2 columns</p>\n",
       "</div>"
      ],
      "text/plain": [
       "            id        cost\n",
       "0       360336   94.529705\n",
       "1       360337   91.177008\n",
       "2       360338   89.415476\n",
       "3       360339  108.532481\n",
       "4       360340   79.510250\n",
       "...        ...         ...\n",
       "240219  600555  101.802530\n",
       "240220  600556   93.375311\n",
       "240221  600557   96.517180\n",
       "240222  600558  108.511054\n",
       "240223  600559  106.555719\n",
       "\n",
       "[240224 rows x 2 columns]"
      ]
     },
     "execution_count": 14,
     "metadata": {},
     "output_type": "execute_result"
    }
   ],
   "source": [
    "result"
   ]
  }
 ],
 "metadata": {
  "kernelspec": {
   "display_name": "Python 3 (ipykernel)",
   "language": "python",
   "name": "python3"
  },
  "language_info": {
   "codemirror_mode": {
    "name": "ipython",
    "version": 3
   },
   "file_extension": ".py",
   "mimetype": "text/x-python",
   "name": "python",
   "nbconvert_exporter": "python",
   "pygments_lexer": "ipython3",
   "version": "3.11.2"
  },
  "papermill": {
   "default_parameters": {},
   "duration": 8626.9528,
   "end_time": "2023-04-03T18:04:06.117228",
   "environment_variables": {},
   "exception": null,
   "input_path": "__notebook__.ipynb",
   "output_path": "__notebook__.ipynb",
   "parameters": {},
   "start_time": "2023-04-03T15:40:19.164428",
   "version": "2.4.0"
  }
 },
 "nbformat": 4,
 "nbformat_minor": 5
}
